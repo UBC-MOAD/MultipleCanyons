{
 "cells": [
  {
   "cell_type": "markdown",
   "metadata": {},
   "source": [
    "## Calibration of lab probe P20\n",
    "\n",
    "Probe P20 was built to work with Douw's profiler. It has a 20 cm long shaft. We may need to recalibrate because we are using an extension cable to reach the conduino circuit.\n",
    "\n",
    "Channel order: CH2 - P20\n",
    "\n",
    "We ran this calibration on my computer, in the densimeter room."
   ]
  },
  {
   "cell_type": "code",
   "execution_count": 1,
   "metadata": {
    "collapsed": false
   },
   "outputs": [],
   "source": [
    "import os\n",
    "import glob\n",
    "import matplotlib.pyplot as plt\n",
    "%matplotlib inline\n",
    "import numpy as np\n",
    "from numpy.polynomial import polynomial as P\n",
    "import pandas as pd\n",
    "import seaborn as sns\n",
    "import scipy.io as sio\n",
    "import warnings\n",
    "warnings.filterwarnings(\"ignore\")"
   ]
  },
  {
   "cell_type": "code",
   "execution_count": 2,
   "metadata": {
    "collapsed": false
   },
   "outputs": [
    {
     "data": {
      "text/html": [
       "<script>\n",
       "code_show=true; \n",
       "function code_toggle() {\n",
       " if (code_show){\n",
       " $('div.input').hide();\n",
       " } else {\n",
       " $('div.input').show();\n",
       " }\n",
       " code_show = !code_show\n",
       "} \n",
       "$( document ).ready(code_toggle);\n",
       "</script>\n",
       "<form action=\"javascript:code_toggle()\"><input type=\"submit\" value=\"Click here to toggle on/off the raw code.\"></form>"
      ],
      "text/plain": [
       "<IPython.core.display.HTML object>"
      ]
     },
     "execution_count": 2,
     "metadata": {},
     "output_type": "execute_result"
    }
   ],
   "source": [
    "from IPython.display import HTML\n",
    "\n",
    "HTML('''<script>\n",
    "code_show=true; \n",
    "function code_toggle() {\n",
    " if (code_show){\n",
    " $('div.input').hide();\n",
    " } else {\n",
    " $('div.input').show();\n",
    " }\n",
    " code_show = !code_show\n",
    "} \n",
    "$( document ).ready(code_toggle);\n",
    "</script>\n",
    "<form action=\"javascript:code_toggle()\"><input type=\"submit\" value=\"Click here to toggle on/off the raw code.\"></form>''')"
   ]
  },
  {
   "cell_type": "code",
   "execution_count": 3,
   "metadata": {
    "collapsed": false
   },
   "outputs": [
    {
     "name": "stdout",
     "output_type": "stream",
     "text": [
      "    percentage  density  temperature\n",
      "0            0  0.99734       20.046\n",
      "1           10  1.00131       20.041\n",
      "2           20  1.00556       20.056\n",
      "3           30  1.00899       20.013\n",
      "4           40  1.01266       20.021\n",
      "5           50  1.01472       20.017\n",
      "6           60  1.01975       20.023\n",
      "7           70  1.02319       20.018\n",
      "8           80  1.02668       20.025\n",
      "9           90  1.03016       20.006\n",
      "10         100  1.03344       20.053\n"
     ]
    }
   ],
   "source": [
    "df = pd.read_csv('../calibration_25apr19_probe_20cm/calibration.csv',header=2)\n",
    "print(df)\n"
   ]
  },
  {
   "cell_type": "code",
   "execution_count": 4,
   "metadata": {
    "collapsed": false
   },
   "outputs": [
    {
     "name": "stdout",
     "output_type": "stream",
     "text": [
      "../calibration_25apr19_probe_20cm/0pc.mat\n",
      "../calibration_25apr19_probe_20cm/10pc.mat\n",
      "../calibration_25apr19_probe_20cm/20pc.mat\n",
      "../calibration_25apr19_probe_20cm/30pc.mat\n",
      "../calibration_25apr19_probe_20cm/40pc.mat\n",
      "../calibration_25apr19_probe_20cm/50pc.mat\n",
      "../calibration_25apr19_probe_20cm/60pc.mat\n",
      "../calibration_25apr19_probe_20cm/70pc.mat\n",
      "../calibration_25apr19_probe_20cm/80pc.mat\n",
      "../calibration_25apr19_probe_20cm/90pc.mat\n",
      "../calibration_25apr19_probe_20cm/100pc.mat\n"
     ]
    },
    {
     "data": {
      "text/plain": [
       "Text(0.5,1,'CH2 - P20')"
      ]
     },
     "execution_count": 4,
     "metadata": {},
     "output_type": "execute_result"
    },
    {
     "data": {
      "image/png": "[encoded data removed]",
      "text/plain": [
       "<Figure size 288x360 with 1 Axes>"
      ]
     },
     "metadata": {},
     "output_type": "display_data"
    }
   ],
   "source": [
    "file_num = 11\n",
    "\n",
    "mean_read_ch2 = np.zeros(file_num)\n",
    "std_read_ch2 = np.zeros(file_num)\n",
    "\n",
    "nums = ['100','90','80','70','60','50','40','30','20','10','0']\n",
    "nums=nums[::-1]\n",
    "\n",
    "fig, (ax0) = plt.subplots(1,1, figsize=(4,5), sharey=True)\n",
    "\n",
    "sns.set_palette('Blues', file_num)\n",
    "for num, ii in zip(nums, range(file_num)):\n",
    "    filepath = '../calibration_25apr19_probe_20cm/%spc.mat' %num\n",
    "    print(filepath)\n",
    "    mat = sio.loadmat(filepath, squeeze_me=True)\n",
    "    ch2 = mat['ch2']\n",
    "    time = mat['time']\n",
    "    nsamples = mat['nSamples']\n",
    "    \n",
    "    mean_read_ch2[ii] = np.mean(ch2)\n",
    "    std_read_ch2[ii] = np.std(ch2)\n",
    "    \n",
    "    ax0.plot(time,ch2, label='%1.1f' %df.percentage[ii])\n",
    "    \n",
    "ax0.legend(bbox_to_anchor=(1,1))\n",
    "ax0.set_ylabel('reading / au')\n",
    "ax0.set_xlabel('time / s')\n",
    "ax0.set_title('CH2 - P20')\n"
   ]
  },
  {
   "cell_type": "code",
   "execution_count": 5,
   "metadata": {
    "collapsed": false
   },
   "outputs": [
    {
     "name": "stdout",
     "output_type": "stream",
     "text": [
      "P20\n",
      "rho_2 = 0.997342+0.001866r+0.002101r^2+-0.000187r^3 \n",
      "\n"
     ]
    },
    {
     "data": {
      "image/png": "[encoded data removed]",
      "text/plain": [
       "<Figure size 288x360 with 1 Axes>"
      ]
     },
     "metadata": {},
     "output_type": "display_data"
    }
   ],
   "source": [
    "coef2, stats2 = P.polyfit(mean_read_ch2[:],np.array(df.density)[:],3,full=True)\n",
    "\n",
    "read_dummy = np.linspace(0,5,30)\n",
    "\n",
    "fit2 = coef2[0]+(coef2[1]*read_dummy)+(coef2[2]*read_dummy**2) + (coef2[3]*read_dummy**3)\n",
    "\n",
    "fig, (ax1) = plt.subplots(1,1, figsize=(4,5), sharey=True)\n",
    "\n",
    "ax1.errorbar(mean_read_ch2,df.density, xerr=std_read_ch2, marker='o', color='blue')\n",
    "ax1.plot(read_dummy, fit2, '--',color='blue')\n",
    "\n",
    "\n",
    "ax1.set_ylabel('density / g cm$^3$')\n",
    "ax1.set_xlabel('reading')\n",
    "ax1.set_title('P20')\n",
    "\n",
    "print('P20')\n",
    "print('rho_2 = %f+%fr+%fr^2+%fr^3 \\n' %(coef2[0], coef2[1], coef2[2], coef2[3]))\n",
    "\n"
   ]
  },
  {
   "cell_type": "code",
   "execution_count": null,
   "metadata": {
    "collapsed": false
   },
   "outputs": [],
   "source": []
  },
  {
   "cell_type": "code",
   "execution_count": null,
   "metadata": {
    "collapsed": true
   },
   "outputs": [],
   "source": []
  }
 ],
 "metadata": {
  "anaconda-cloud": {},
  "kernelspec": {
   "display_name": "Python [default]",
   "language": "python",
   "name": "python3"
  },
  "language_info": {
   "codemirror_mode": {
    "name": "ipython",
    "version": 3
   },
   "file_extension": ".py",
   "mimetype": "text/x-python",
   "name": "python",
   "nbconvert_exporter": "python",
   "pygments_lexer": "ipython3",
   "version": "3.5.4"
  }
 },
 "nbformat": 4,
 "nbformat_minor": 0
}
