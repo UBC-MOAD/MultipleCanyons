{
 "cells": [
  {
   "cell_type": "markdown",
   "metadata": {},
   "source": [
    "## Calibration of lab probe P20 with extension cable\n",
    "\n",
    "Probe P20 was built to work with Douw's profiler. It has a 20 cm long shaft. We are recalibrating because we are using an extension cable to reach the conduino circuit.\n",
    "\n",
    "Channel order: CH3 - P20\n",
    "\n",
    "We ran this calibration in situ with all probes connected (ANK1, ANK2, P20)"
   ]
  },
  {
   "cell_type": "code",
   "execution_count": 1,
   "metadata": {
    "collapsed": false
   },
   "outputs": [],
   "source": [
    "import os\n",
    "import glob\n",
    "import matplotlib.pyplot as plt\n",
    "%matplotlib inline\n",
    "import numpy as np\n",
    "from numpy.polynomial import polynomial as P\n",
    "import pandas as pd\n",
    "import seaborn as sns\n",
    "import scipy.io as sio\n",
    "import warnings\n",
    "warnings.filterwarnings(\"ignore\")"
   ]
  },
  {
   "cell_type": "code",
   "execution_count": 2,
   "metadata": {
    "collapsed": false
   },
   "outputs": [
    {
     "data": {
      "text/html": [
       "<script>\n",
       "code_show=true; \n",
       "function code_toggle() {\n",
       " if (code_show){\n",
       " $('div.input').hide();\n",
       " } else {\n",
       " $('div.input').show();\n",
       " }\n",
       " code_show = !code_show\n",
       "} \n",
       "$( document ).ready(code_toggle);\n",
       "</script>\n",
       "<form action=\"javascript:code_toggle()\"><input type=\"submit\" value=\"Click here to toggle on/off the raw code.\"></form>"
      ],
      "text/plain": [
       "<IPython.core.display.HTML object>"
      ]
     },
     "execution_count": 2,
     "metadata": {},
     "output_type": "execute_result"
    }
   ],
   "source": [
    "from IPython.display import HTML\n",
    "\n",
    "HTML('''<script>\n",
    "code_show=true; \n",
    "function code_toggle() {\n",
    " if (code_show){\n",
    " $('div.input').hide();\n",
    " } else {\n",
    " $('div.input').show();\n",
    " }\n",
    " code_show = !code_show\n",
    "} \n",
    "$( document ).ready(code_toggle);\n",
    "</script>\n",
    "<form action=\"javascript:code_toggle()\"><input type=\"submit\" value=\"Click here to toggle on/off the raw code.\"></form>''')"
   ]
  },
  {
   "cell_type": "code",
   "execution_count": 2,
   "metadata": {
    "collapsed": false
   },
   "outputs": [
    {
     "name": "stdout",
     "output_type": "stream",
     "text": [
      "    percentage   density       T\n",
      "0            0  0.997980  20.014\n",
      "1           10  1.001300  20.025\n",
      "2           20  1.004050  20.027\n",
      "3           30  1.007660  20.016\n",
      "4           40  1.011686  20.000\n",
      "5           50  1.016300  20.003\n",
      "6           60  1.019080  20.018\n",
      "7           70  1.022207  20.000\n",
      "8           80  1.026701  20.001\n",
      "9           90  1.028190  20.014\n",
      "10         100  1.032480  20.016\n"
     ]
    }
   ],
   "source": [
    "df = pd.read_csv('../calibration_P20_30apr19/calibration.csv',header=2)\n",
    "print(df)\n"
   ]
  },
  {
   "cell_type": "code",
   "execution_count": 5,
   "metadata": {
    "collapsed": false
   },
   "outputs": [
    {
     "name": "stdout",
     "output_type": "stream",
     "text": [
      "../calibration_P20_30apr19/00pc.mat\n",
      "../calibration_P20_30apr19/10pc.mat\n",
      "../calibration_P20_30apr19/20pc.mat\n",
      "../calibration_P20_30apr19/30pc.mat\n",
      "../calibration_P20_30apr19/40pc.mat\n",
      "../calibration_P20_30apr19/50pc.mat\n",
      "../calibration_P20_30apr19/60pc.mat\n",
      "../calibration_P20_30apr19/70pc.mat\n",
      "../calibration_P20_30apr19/80pc.mat\n",
      "../calibration_P20_30apr19/90pc.mat\n",
      "../calibration_P20_30apr19/100pc.mat\n"
     ]
    },
    {
     "data": {
      "text/plain": [
       "Text(0.5,1,'CH2 - P20')"
      ]
     },
     "execution_count": 5,
     "metadata": {},
     "output_type": "execute_result"
    },
    {
     "data": {
      "image/png": "[encoded data removed]",
      "text/plain": [
       "<Figure size 288x360 with 1 Axes>"
      ]
     },
     "metadata": {},
     "output_type": "display_data"
    }
   ],
   "source": [
    "file_num = 11\n",
    "\n",
    "mean_read_ch2 = np.zeros(file_num)\n",
    "std_read_ch2 = np.zeros(file_num)\n",
    "\n",
    "nums = ['100','90','80','70','60','50','40','30','20','10','00']\n",
    "nums=nums[::-1]\n",
    "\n",
    "fig, (ax0) = plt.subplots(1,1, figsize=(4,5), sharey=True)\n",
    "\n",
    "sns.set_palette('Blues', file_num)\n",
    "for num, ii in zip(nums, range(file_num)):\n",
    "    filepath = '../calibration_P20_30apr19/%spc.mat' %num\n",
    "    print(filepath)\n",
    "    mat = sio.loadmat(filepath, squeeze_me=True)\n",
    "    ch2 = mat['ch3']\n",
    "    time = mat['time']\n",
    "    nsamples = mat['nSamples']\n",
    "    \n",
    "    mean_read_ch2[ii] = np.mean(ch2)\n",
    "    std_read_ch2[ii] = np.std(ch2)\n",
    "    \n",
    "    ax0.plot(time,ch2, label='%1.1f' %df.percentage[ii])\n",
    "    \n",
    "ax0.legend(bbox_to_anchor=(1,1))\n",
    "ax0.set_ylabel('reading / au')\n",
    "ax0.set_xlabel('time / s')\n",
    "ax0.set_title('CH2 - P20')\n"
   ]
  },
  {
   "cell_type": "code",
   "execution_count": 13,
   "metadata": {
    "collapsed": false
   },
   "outputs": [
    {
     "name": "stdout",
     "output_type": "stream",
     "text": [
      "P20\n",
      "rho_2 = 0.998253+0.000019r+0.002393r^2+-0.000202r^3 \n",
      "\n"
     ]
    },
    {
     "data": {
      "image/png": "[encoded data removed]",
      "text/plain": [
       "<Figure size 288x360 with 1 Axes>"
      ]
     },
     "metadata": {},
     "output_type": "display_data"
    }
   ],
   "source": [
    "coef2, stats2 = P.polyfit(mean_read_ch2[:],np.array(df.density)[:],3,full=True)\n",
    "\n",
    "read_dummy = np.linspace(0,5,30)\n",
    "\n",
    "fit2 = coef2[0]+(coef2[1]*read_dummy)+(coef2[2]*read_dummy**2) + (coef2[3]*read_dummy**3)\n",
    "\n",
    "fig, (ax1) = plt.subplots(1,1, figsize=(4,5), sharey=True)\n",
    "\n",
    "ax1.errorbar(mean_read_ch2, df.density, xerr=std_read_ch2, marker='o', color='blue')\n",
    "ax1.plot(read_dummy, fit2, '--',color='blue')\n",
    "\n",
    "\n",
    "ax1.set_ylabel('density / g cm$^3$')\n",
    "ax1.set_xlabel('reading')\n",
    "ax1.set_title('P20')\n",
    "\n",
    "print('P20')\n",
    "print('rho_2 = %f+%fr+%fr^2+%fr^3 \\n' %(coef2[0], coef2[1], coef2[2], coef2[3]))\n"
   ]
  },
  {
   "cell_type": "code",
   "execution_count": 14,
   "metadata": {
    "collapsed": false
   },
   "outputs": [
    {
     "name": "stdout",
     "output_type": "stream",
     "text": [
      "0.0005916988173632368\n"
     ]
    }
   ],
   "source": [
    "# RMS\n",
    "\n",
    "check_fit =coef2[0]+(coef2[1]*mean_read_ch2)+(coef2[2]*mean_read_ch2**2) + (coef2[3]*mean_read_ch2**3)\n",
    "var = np.sum(np.sqrt((df.density-check_fit)**2))/len(check_fit)\n",
    "print(var)"
   ]
  },
  {
   "cell_type": "code",
   "execution_count": null,
   "metadata": {
    "collapsed": true
   },
   "outputs": [],
   "source": []
  }
 ],
 "metadata": {
  "anaconda-cloud": {},
  "kernelspec": {
   "display_name": "Python [default]",
   "language": "python",
   "name": "python3"
  },
  "language_info": {
   "codemirror_mode": {
    "name": "ipython",
    "version": 3
   },
   "file_extension": ".py",
   "mimetype": "text/x-python",
   "name": "python",
   "nbconvert_exporter": "python",
   "pygments_lexer": "ipython3",
   "version": "3.5.4"
  }
 },
 "nbformat": 4,
 "nbformat_minor": 0
}
