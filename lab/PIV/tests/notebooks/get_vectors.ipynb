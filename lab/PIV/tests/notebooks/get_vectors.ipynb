{
 "cells": [
  {
   "cell_type": "markdown",
   "metadata": {},
   "source": [
    "### Process all pairs (every 2 frames)"
   ]
  },
  {
   "cell_type": "code",
   "execution_count": 5,
   "metadata": {
    "collapsed": true
   },
   "outputs": [],
   "source": [
    "import openpiv.tools\n",
    "import openpiv.process\n",
    "import openpiv.scaling\n",
    "import openpiv.validation\n",
    "import openpiv.filters\n",
    "import numpy as np\n",
    "import pandas as pd\n",
    "import matplotlib.pyplot as plt\n",
    "from matplotlib import animation\n",
    "%matplotlib inline\n",
    "from skimage import img_as_int"
   ]
  },
  {
   "cell_type": "markdown",
   "metadata": {
    "collapsed": false
   },
   "source": []
  },
  {
   "cell_type": "code",
   "execution_count": 4,
   "metadata": {
    "collapsed": false
   },
   "outputs": [
    {
     "ename": "SyntaxError",
     "evalue": "invalid syntax (<ipython-input-4-1a6c8c01a9ed>, line 22)",
     "output_type": "error",
     "traceback": [
      "\u001b[0;36m  File \u001b[0;32m\"<ipython-input-4-1a6c8c01a9ed>\"\u001b[0;36m, line \u001b[0;32m22\u001b[0m\n\u001b[0;31m    ini_frame =\u001b[0m\n\u001b[0m                ^\u001b[0m\n\u001b[0;31mSyntaxError\u001b[0m\u001b[0;31m:\u001b[0m invalid syntax\n"
     ]
    }
   ],
   "source": [
    "#--------------------------------------------------------------------------------------------------------\n",
    "#\n",
    "### Process all frame pairs (every 2 frames)\n",
    "#\n",
    "#--------------------------------------------------------------------------------------------------------\n",
    "\n",
    "#--------------------------------------------------------------------------------------------------------\n",
    "\n",
    "# INPUT:\n",
    "\n",
    "# initial frame to process (int)\n",
    "ini_frame = \n",
    "# last frame to porcess (int)\n",
    "end_frame = \n",
    "# pix/cm, get this scale from reference image\n",
    "sca_factor = 69.4686 \n",
    "# directory where frames are\n",
    "frame_dir = '/ocean/kramosmu/MultipleCanyons/lab/PIV/experiments/exp_13jun19/frames' \n",
    "# filename format of frame files\n",
    "frame_format = 'run01_%s.jpg' \n",
    "# directory to save velocity data files\n",
    "vel_dir = '/ocean/kramosmu/MultipleCanyons/lab/PIV/experiments/exp_13jun19/velocity'\n",
    " # filename format for velocity files\n",
    "vel_format = 'run01_%s.txt'\n",
    "\n",
    "# Correlation processing parameters\n",
    "window_size = 32\n",
    "overlap = 16\n",
    "dt = 5/30\n",
    "search_area_size = 48\n",
    "thresh = 1.3 # signal to noise threshold\n",
    "\n",
    "#--------------------------------------------------------------------------------------------------------\n",
    "\n",
    "for ii in range(ini_fame,end_frame,2):\n",
    "\n",
    "    fr_num_a = ('%04d' %ii)\n",
    "    fr_num_b = ('%04d' %(ii+2))\n",
    "    \n",
    "    file_a = (frame_dir+frame_format %fr_num_a)\n",
    "    file_b = (frame_dir+frame_format %fr_num_b)\n",
    "    \n",
    "    fr_a  = openpiv.tools.imread(file_a)\n",
    "    fr_b  = openpiv.tools.imread(file_b)\n",
    "    \n",
    "    frame_a_int = img_as_int(1-fr_a)\n",
    "    frame_b_int = img_as_int(1-fr_b)\n",
    "    \n",
    "    fra = frame_a_int[200:,500:1700].astype(np.int32) # crop images\n",
    "    frb = frame_b_int[200:,500:1700].astype(np.int32)\n",
    "\n",
    "    u, v, sig2noise = openpiv.process.extended_search_area_piv(fra, frb,\n",
    "                                                               window_size, \n",
    "                                                               overlap=overlap, \n",
    "                                                               dt=dt, \n",
    "                                                               search_area_size=search_area_size, \n",
    "                                                               sig2noise_method='peak2peak')\n",
    "    x, y = openpiv.process.get_coordinates(image_size=fra.shape, window_size=window_size, overlap=overlap)\n",
    "    umask, vmask, mask = openpiv.validation.sig2noise_val(u, v, sig2noise, threshold = thresh)\n",
    "    uval, vval, mask = openpiv.validation.global_val(umask, vmask, (-5000, 5000), (-5000, 5000))\n",
    "    xsca, ysca, usca, vsca = openpiv.scaling.uniform(x, y, uval, vval, scaling_factor = sca_factor )\n",
    "\n",
    "    openpiv.tools.save(xsca, ysca, usca, vsca, mask, (vel_dir + vel_format %fr_num_a)\n"
   ]
  },
  {
   "cell_type": "code",
   "execution_count": 1,
   "metadata": {
    "collapsed": false
   },
   "outputs": [],
   "source": [
    "import matplotlib.pyplot as plt"
   ]
  },
  {
   "cell_type": "code",
   "execution_count": 11,
   "metadata": {
    "collapsed": false
   },
   "outputs": [],
   "source": [
    "filename = '/ocean/kramosmu/MultipleCanyons/lab/PIV/experiments/exp_13jun19/velocity/run01_0005.txt'"
   ]
  },
  {
   "cell_type": "code",
   "execution_count": 12,
   "metadata": {
    "collapsed": false
   },
   "outputs": [
    {
     "name": "stderr",
     "output_type": "stream",
     "text": [
      "/home/kramosmu/anaconda3/lib/python3.5/site-packages/openpiv/tools.py:80: MatplotlibDeprecationWarning: pyplot.hold is deprecated.\n",
      "    Future behavior will be consistent with the long-time default:\n",
      "    plot commands add elements without first clearing the\n",
      "    Axes and/or Figure.\n",
      "  pl.hold(True)\n",
      "/home/kramosmu/anaconda3/lib/python3.5/site-packages/matplotlib/__init__.py:901: MatplotlibDeprecationWarning: axes.hold is deprecated. Please remove it from your matplotlibrc and/or style files.\n",
      "  mplDeprecation)\n",
      "/home/kramosmu/anaconda3/lib/python3.5/site-packages/matplotlib/rcsetup.py:156: MatplotlibDeprecationWarning: axes.hold is deprecated, will be removed in 3.0\n",
      "  mplDeprecation)\n",
      "/home/kramosmu/anaconda3/lib/python3.5/site-packages/matplotlib/quiver.py:650: RuntimeWarning: Mean of empty slice.\n",
      "  amean = a.mean()\n"
     ]
    },
    {
     "data": {
      "image/png": "[encoded data removed]",
      "text/plain": [
       "<Figure size 432x288 with 1 Axes>"
      ]
     },
     "metadata": {},
     "output_type": "display_data"
    }
   ],
   "source": [
    "openpiv.tools.display_vector_field(filename, width=0.0025)\n"
   ]
  },
  {
   "cell_type": "code",
   "execution_count": null,
   "metadata": {
    "collapsed": true
   },
   "outputs": [],
   "source": []
  }
 ],
 "metadata": {
  "anaconda-cloud": {},
  "kernelspec": {
   "display_name": "Python [default]",
   "language": "python",
   "name": "python3"
  },
  "language_info": {
   "codemirror_mode": {
    "name": "ipython",
    "version": 3
   },
   "file_extension": ".py",
   "mimetype": "text/x-python",
   "name": "python",
   "nbconvert_exporter": "python",
   "pygments_lexer": "ipython3",
   "version": "3.5.4"
  }
 },
 "nbformat": 4,
 "nbformat_minor": 1
}
