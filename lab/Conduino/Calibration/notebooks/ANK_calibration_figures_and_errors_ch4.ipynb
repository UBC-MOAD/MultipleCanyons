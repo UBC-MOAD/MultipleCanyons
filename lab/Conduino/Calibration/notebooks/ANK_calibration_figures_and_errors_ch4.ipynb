{
 "cells": [
  {
   "cell_type": "markdown",
   "metadata": {},
   "source": [
    "## Figures and error calculations\n",
    "\n",
    "Probes ANK1 and ANK2 are fixed under the canyons to measure conductivity at the heads of the canyons. Electordes have been bent on purpose.\n",
    "\n",
    "Looking at calibrations that are relevant to Chapter 4 of my thesis: August 17th and August 9th.\n",
    "\n",
    "Channel order: CH1 - ANK1, CH2 - ANK2, CH3 - probe P21"
   ]
  },
  {
   "cell_type": "code",
   "execution_count": 106,
   "metadata": {
    "collapsed": false
   },
   "outputs": [],
   "source": [
    "import os\n",
    "import glob\n",
    "import matplotlib.pyplot as plt\n",
    "%matplotlib inline\n",
    "import numpy as np\n",
    "from numpy.polynomial import polynomial as Poly\n",
    "import pandas as pd\n",
    "import seaborn as sns\n",
    "import scipy.io as sio\n",
    "from scipy.interpolate import interp1d\n",
    "from sklearn.metrics import mean_squared_error\n",
    "import warnings\n",
    "warnings.filterwarnings(\"ignore\")"
   ]
  },
  {
   "cell_type": "code",
   "execution_count": 2,
   "metadata": {
    "collapsed": false
   },
   "outputs": [
    {
     "data": {
      "text/html": [
       "<script>\n",
       "code_show=true; \n",
       "function code_toggle() {\n",
       " if (code_show){\n",
       " $('div.input').hide();\n",
       " } else {\n",
       " $('div.input').show();\n",
       " }\n",
       " code_show = !code_show\n",
       "} \n",
       "$( document ).ready(code_toggle);\n",
       "</script>\n",
       "<form action=\"javascript:code_toggle()\"><input type=\"submit\" value=\"Click here to toggle on/off the raw code.\"></form>"
      ],
      "text/plain": [
       "<IPython.core.display.HTML object>"
      ]
     },
     "execution_count": 2,
     "metadata": {},
     "output_type": "execute_result"
    }
   ],
   "source": [
    "from IPython.display import HTML\n",
    "\n",
    "HTML('''<script>\n",
    "code_show=true; \n",
    "function code_toggle() {\n",
    " if (code_show){\n",
    " $('div.input').hide();\n",
    " } else {\n",
    " $('div.input').show();\n",
    " }\n",
    " code_show = !code_show\n",
    "} \n",
    "$( document ).ready(code_toggle);\n",
    "</script>\n",
    "<form action=\"javascript:code_toggle()\"><input type=\"submit\" value=\"Click here to toggle on/off the raw code.\"></form>''')"
   ]
  },
  {
   "cell_type": "code",
   "execution_count": 5,
   "metadata": {
    "collapsed": false
   },
   "outputs": [],
   "source": [
    "# Read density of saline solutions\n",
    "df17 = pd.read_csv('../calibration_17aug19/calibration.csv')\n",
    "df09 = pd.read_csv('../calibration_09aug19/calibration.csv')"
   ]
  },
  {
   "cell_type": "code",
   "execution_count": 18,
   "metadata": {
    "collapsed": false
   },
   "outputs": [],
   "source": [
    "# Read conduino measurements and the average 500 nsamples\n",
    "nums = ['100','090','080','070','060','050','040','030','020','010','000']\n",
    "file_num = len(nums)\n",
    "\n",
    "# August 17\n",
    "mean_read_ch1_17 = np.zeros(file_num)\n",
    "std_read_ch1_17 = np.zeros(file_num)\n",
    "mean_read_ch2_17 = np.zeros(file_num)\n",
    "std_read_ch2_17 = np.zeros(file_num)\n",
    "\n",
    "for num, ii in zip(nums, range(file_num)):\n",
    "    filepath = '../calibration_17aug19/%spc.mat' %num\n",
    "    mat = sio.loadmat(filepath, squeeze_me=True)\n",
    "    ch1 = mat['ch1']\n",
    "    ch2 = mat['ch2']\n",
    "    time = mat['time']\n",
    "    nsamples = mat['nSamples']\n",
    "    \n",
    "    mean_read_ch1_17[ii] = np.mean(ch1)\n",
    "    std_read_ch1_17[ii] = np.std(ch1)\n",
    "    \n",
    "    mean_read_ch2_17[ii] = np.mean(ch2)\n",
    "    std_read_ch2_17[ii] = np.std(ch2)\n",
    "\n",
    "# August 9\n",
    "mean_read_ch1_09 = np.zeros(file_num)\n",
    "std_read_ch1_09 = np.zeros(file_num)\n",
    "mean_read_ch2_09 = np.zeros(file_num)\n",
    "std_read_ch2_09 = np.zeros(file_num)\n",
    "\n",
    "for num, ii in zip(nums, range(file_num)):\n",
    "    filepath = '../calibration_09aug19/%spc.mat' %num\n",
    "    mat = sio.loadmat(filepath, squeeze_me=True)\n",
    "    ch1 = mat['ch1']\n",
    "    ch2 = mat['ch2']\n",
    "    time = mat['time']\n",
    "    nsamples = mat['nSamples']\n",
    "    \n",
    "    mean_read_ch1_09[ii] = np.mean(ch1)\n",
    "    std_read_ch1_09[ii] = np.std(ch1)\n",
    "    \n",
    "    mean_read_ch2_09[ii] = np.mean(ch2)\n",
    "    std_read_ch2_09[ii] = np.std(ch2)\n",
    " "
   ]
  },
  {
   "cell_type": "code",
   "execution_count": 81,
   "metadata": {
    "collapsed": false
   },
   "outputs": [
    {
     "name": "stdout",
     "output_type": "stream",
     "text": [
      "rmse are:\n",
      "0.0010812513188054186 0.0008326668323341193 0.0003050796344691602 0.00013413378221801463\n"
     ]
    }
   ],
   "source": [
    "# Fit 3rd deg polynomial\n",
    "coef1_17, stats1_17 = Poly.polyfit(mean_read_ch1_17[:],np.array(df17.density)[:],3,full=True)\n",
    "coef2_17, stats2_17 = Poly.polyfit(mean_read_ch2_17[:],np.array(df17.density)[:],3,full=True)\n",
    "\n",
    "coef1_09, stats1_09 = Poly.polyfit(mean_read_ch1_09[:],np.array(df09.density)[:],3,full=True)\n",
    "coef2_09, stats2_09 = Poly.polyfit(mean_read_ch2_09[:],np.array(df09.density)[:],3,full=True)\n",
    "\n",
    "read_dummy = np.linspace(0,4.8,30)\n",
    "\n",
    "fit1_17 = coef1_17[0]+(coef1_17[1]*read_dummy)+(coef1_17[2]*read_dummy**2) + (coef1_17[3]*read_dummy**3)\n",
    "fit2_17 = coef2_17[0]+(coef2_17[1]*read_dummy)+(coef2_17[2]*read_dummy**2) + (coef2_17[3]*read_dummy**3)\n",
    "\n",
    "fit1_09 = coef1_09[0]+(coef1_09[1]*read_dummy)+(coef1_09[2]*read_dummy**2) + (coef1_09[3]*read_dummy**3)\n",
    "fit2_09 = coef2_09[0]+(coef2_09[1]*read_dummy)+(coef2_09[2]*read_dummy**2) + (coef2_09[3]*read_dummy**3)\n",
    "\n",
    "# vector to calculate rmse\n",
    "vec1_17 = coef1_17[0]+(coef1_17[1]*mean_read_ch1_17)+(coef1_17[2]*mean_read_ch1_17**2) + (coef1_17[3]*mean_read_ch1_17**3)\n",
    "vec2_17 = coef2_17[0]+(coef2_17[1]*mean_read_ch2_17)+(coef2_17[2]*mean_read_ch2_17**2) + (coef2_17[3]*mean_read_ch2_17**3)\n",
    "\n",
    "vec1_09 = coef1_09[0]+(coef1_09[1]*mean_read_ch1_09)+(coef1_09[2]*mean_read_ch1_09**2) + (coef1_09[3]*mean_read_ch1_09**3)\n",
    "vec2_09 = coef2_09[0]+(coef2_09[1]*mean_read_ch2_09)+(coef2_09[2]*mean_read_ch2_09**2) + (coef2_09[3]*mean_read_ch2_09**3)\n",
    "\n",
    "rmse_1_17 = (mean_squared_error(vec1_17, np.array(df17.density)[:]))**(0.5)\n",
    "rmse_2_17 = (mean_squared_error(vec2_17, np.array(df17.density)[:]))**(0.5)\n",
    "rmse_1_09 = (mean_squared_error(vec1_09, np.array(df09.density)[:]))**(0.5)\n",
    "rmse_2_09 = (mean_squared_error(vec2_09, np.array(df09.density)[:]))**(0.5)\n",
    "\n",
    "print('rmse are:')\n",
    "print(rmse_1_17, rmse_2_17, rmse_1_09, rmse_2_09)"
   ]
  },
  {
   "cell_type": "code",
   "execution_count": 105,
   "metadata": {
    "collapsed": false
   },
   "outputs": [
    {
     "data": {
      "image/png": "[encoded data removed]",
      "text/plain": [
       "<Figure size 360x360 with 4 Axes>"
      ]
     },
     "metadata": {},
     "output_type": "display_data"
    }
   ],
   "source": [
    "# Check what is the uncertainty of the densimeter\n",
    "\n",
    "sns.set_style('white')\n",
    "fig, ((ax0, ax1),(ax2,ax3)) = plt.subplots(2,2, figsize=(5,5), sharex=True)\n",
    "\n",
    "ax0.errorbar(mean_read_ch1_17, df17.density, xerr=std_read_ch1_17, yerr=0.00005,\n",
    "             marker='o', linewidth=0, color='deepskyblue', label='Measurements')\n",
    "ax0.plot(read_dummy, fit1_17, '-',color='deepskyblue', label='Fitted function')\n",
    "ax0.fill_between(read_dummy, fit1_17-rmse_1_17, fit1_17+rmse_1_17,\n",
    "                 color='0.9',alpha=0.2)\n",
    "\n",
    "ax1.errorbar(mean_read_ch2_17, df17.density, xerr=std_read_ch2_17,yerr=0.00005, \n",
    "             marker='o',linewidth=0,  color='deepskyblue', label='Samples')\n",
    "ax1.plot(read_dummy, fit2_17, '-',color='deepskyblue', label='Fit Aug. 17th')\n",
    "ax1.fill_between(read_dummy, fit2_17-rmse_2_17, fit2_17+rmse_2_17,\n",
    "                 color='0.9',alpha=0.2)\n",
    "\n",
    "ax0.errorbar(mean_read_ch1_09,df09.density, xerr=std_read_ch1_09,yerr=0.00005, \n",
    "             marker='o',linewidth=0,  color='navy', label='Measurements ')\n",
    "ax0.plot(read_dummy, fit1_09, '-',color='navy', label='Measurements')\n",
    "ax0.fill_between(read_dummy, fit1_09-rmse_1_09, fit1_09+rmse_1_09,\n",
    "                 color='0.9',alpha=0.2)\n",
    "\n",
    "ax1.errorbar(mean_read_ch2_09,df09.density, xerr=std_read_ch2_09, yerr=0.00005,\n",
    "             marker='o',linewidth=0,  color='navy', label='Samples')\n",
    "ax1.plot(read_dummy, fit2_09, '-',color='navy', label='Fit Aug. 9th')\n",
    "ax1.fill_between(read_dummy, fit2_09-rmse_2_09, fit2_09+rmse_2_09,\n",
    "                 color='0.9',alpha=0.2)\n",
    "\n",
    "\n",
    "ax2.plot(read_dummy[1:],(fit1_17[1:]-fit1_17[:-1])/(read_dummy[1:]-read_dummy[:-1]),\n",
    "         '-',color='deepskyblue', label='Aug. 17th')\n",
    "ax2.plot(read_dummy[1:],(fit1_09[1:]-fit1_09[:-1])/(read_dummy[1:]-read_dummy[:-1]),\n",
    "         '-',color='navy', label='Aug. 9th')\n",
    "\n",
    "ax3.plot(read_dummy[1:],(fit2_17[1:]-fit2_17[:-1])/(read_dummy[1:]-read_dummy[:-1]),\n",
    "         '-',color='deepskyblue', label='Aug. 17th')\n",
    "ax3.plot(read_dummy[1:],(fit2_09[1:]-fit2_09[:-1])/(read_dummy[1:]-read_dummy[:-1]),\n",
    "         '-',color='navy', label='Aug. 9th')\n",
    "\n",
    "ax0.text(0.07,1.46,r'Aug 17th: $\\rho_{ups}$ = %f+%f$r$+%f$r^2$+%f$r^3$' %(coef1_17[0], coef1_17[1], coef1_17[2], coef1_17[3]),\n",
    "         transform=ax0.transAxes)\n",
    "ax0.text(0.07,1.36,r'Aug 17th: $\\rho_{dns}$ = %f+%f$r$+%f$r^2$+%f$r^3$' %(coef2_17[0], coef2_17[1], coef2_17[2], coef2_17[3]),\n",
    "         transform=ax0.transAxes)\n",
    "ax0.text(0.07,1.26,r'Aug 09th: $\\rho_{ups}$ = %f+%f$r$+%f$r^2$+%f$r^3$' %(coef1_09[0], coef1_09[1], coef1_09[2], coef1_09[3]),\n",
    "         transform=ax0.transAxes)\n",
    "ax0.text(0.07,1.16,r'Aug 09th: $\\rho_{dns}$ = %f+%f$r$+%f$r^2$+%f$r^3$' %(coef2_09[0], coef2_09[1], coef2_09[2], coef2_09[3]),\n",
    "         transform=ax0.transAxes)\n",
    "\n",
    "ax0.set_ylabel(r'$\\rho$ / g cm$^3$')\n",
    "ax2.set_xlabel(r'Reading $r$ / AU')\n",
    "ax3.set_xlabel(r'Reading $r$ / AU')\n",
    "ax2.set_ylabel(r'd$\\rho$/d$r$')\n",
    "ax0.set_title('Upstream probe')\n",
    "ax1.set_title('Downstream probe')\n",
    "ax0.set_ylim(0.99,1.06)\n",
    "ax1.set_ylim(0.99,1.06)\n",
    "ax2.set_ylim(0.004,0.06)\n",
    "ax3.set_ylim(0.004,0.06)\n",
    "ax1.set_yticks([])\n",
    "ax3.set_yticks([])\n",
    "ax1.legend()\n",
    "ax3.legend()\n",
    "plt.tight_layout()\n",
    "plt.savefig('../../notebooks/figures/calibration_ANKS.eps', format='eps', transparent=False, bbox_inches='tight')"
   ]
  },
  {
   "cell_type": "code",
   "execution_count": 107,
   "metadata": {
    "collapsed": true
   },
   "outputs": [],
   "source": [
    "del_rho = interp1d(read_dummy[1:],(fit1_17[1:]-fit1_17[:-1])/(read_dummy[1:]-read_dummy[:-1]))\n"
   ]
  },
  {
   "cell_type": "code",
   "execution_count": 109,
   "metadata": {
    "collapsed": false
   },
   "outputs": [],
   "source": [
    "error_rho = del_rho(3.060)*0.29"
   ]
  },
  {
   "cell_type": "code",
   "execution_count": 110,
   "metadata": {
    "collapsed": false
   },
   "outputs": [
    {
     "data": {
      "text/plain": [
       "0.0035605883485327933"
      ]
     },
     "execution_count": 110,
     "metadata": {},
     "output_type": "execute_result"
    }
   ],
   "source": [
    "error_rho"
   ]
  },
  {
   "cell_type": "code",
   "execution_count": null,
   "metadata": {
    "collapsed": true
   },
   "outputs": [],
   "source": []
  }
 ],
 "metadata": {
  "anaconda-cloud": {},
  "kernelspec": {
   "display_name": "Python [default]",
   "language": "python",
   "name": "python3"
  },
  "language_info": {
   "codemirror_mode": {
    "name": "ipython",
    "version": 3
   },
   "file_extension": ".py",
   "mimetype": "text/x-python",
   "name": "python",
   "nbconvert_exporter": "python",
   "pygments_lexer": "ipython3",
   "version": "3.5.4"
  }
 },
 "nbformat": 4,
 "nbformat_minor": 0
}
