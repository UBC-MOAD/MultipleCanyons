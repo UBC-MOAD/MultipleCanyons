{
 "cells": [
  {
   "cell_type": "markdown",
   "metadata": {},
   "source": [
    "## Add point to first calibration\n",
    "\n",
    "Calibration date: October 25th and December 4th, 2018\n",
    "\n",
    "Conductivity solution standards provided by Roger Pieters. Extra point comes from bottle that was sealed but past its expiration date.\n",
    "\n",
    "Script settings: 'mac', portnum= 3\n",
    "\n",
    "|Parameter|Value|\n",
    "|::|::|\n",
    "|Lab temperature|20 $^{\\circ}$C|\n",
    "|nsamples|500 to 1000|\n",
    "|channel|1|\n",
    "|probe|37|\n",
    " \n",
    "\n",
    "Variables:\n",
    "\n",
    "|variable name| type and shape|\n",
    "|::|::|\n",
    "|'ch1':| float, array(nsamples)|\n",
    "|'ch2': |float, array(nsamples)|\n",
    "|'ch3': |float, array(nsamples)|\n",
    "|'ch4': |float, array(nsamples)|\n",
    "|'dt': |float, scalar|\n",
    "|'macORpc': |str ('mac')|\n",
    "|'nSample': |float, scalar|\n",
    "|'nSamples': |float, scalar|\n",
    "|'portNumber':| int, scalar|\n",
    "|'pp':| float, array, not sure what it has|\n",
    "|'time':| float, array(nsamples)|\n",
    "|'timeElapsed':| float,scalar|"
   ]
  },
  {
   "cell_type": "code",
   "execution_count": 2,
   "metadata": {
    "collapsed": false
   },
   "outputs": [],
   "source": [
    "import os\n",
    "import glob\n",
    "import matplotlib.pyplot as plt\n",
    "%matplotlib inline\n",
    "import numpy as np\n",
    "import pandas as pd\n",
    "import scipy.io as sio\n",
    "import warnings\n",
    "warnings.filterwarnings(\"ignore\")"
   ]
  },
  {
   "cell_type": "code",
   "execution_count": 93,
   "metadata": {
    "collapsed": false
   },
   "outputs": [
    {
     "data": {
      "text/html": [
       "<script>\n",
       "code_show=true; \n",
       "function code_toggle() {\n",
       " if (code_show){\n",
       " $('div.input').hide();\n",
       " } else {\n",
       " $('div.input').show();\n",
       " }\n",
       " code_show = !code_show\n",
       "} \n",
       "$( document ).ready(code_toggle);\n",
       "</script>\n",
       "<form action=\"javascript:code_toggle()\"><input type=\"submit\" value=\"Click here to toggle on/off the raw code.\"></form>"
      ],
      "text/plain": [
       "<IPython.core.display.HTML object>"
      ]
     },
     "execution_count": 93,
     "metadata": {},
     "output_type": "execute_result"
    }
   ],
   "source": [
    "from IPython.display import HTML\n",
    "\n",
    "HTML('''<script>\n",
    "code_show=true; \n",
    "function code_toggle() {\n",
    " if (code_show){\n",
    " $('div.input').hide();\n",
    " } else {\n",
    " $('div.input').show();\n",
    " }\n",
    " code_show = !code_show\n",
    "} \n",
    "$( document ).ready(code_toggle);\n",
    "</script>\n",
    "<form action=\"javascript:code_toggle()\"><input type=\"submit\" value=\"Click here to toggle on/off the raw code.\"></form>''')"
   ]
  },
  {
   "cell_type": "code",
   "execution_count": 28,
   "metadata": {
    "collapsed": false
   },
   "outputs": [
    {
     "name": "stdout",
     "output_type": "stream",
     "text": [
      "../probe37_25oct18/00010microseimen_per_cm_500samp.mat\n",
      "../probe37_25oct18/00010microseimen_per_cm_500samp.mat\n",
      "../probe37_25oct18/00100microseimen_per_cm_500samp.mat\n",
      "../probe37_25oct18/00100microseimen_per_cm_500samp.mat\n",
      "../probe37_25oct18/01000microseimen_per_cm_500samp.mat\n",
      "../probe37_25oct18/01000microseimen_per_cm_500samp.mat\n",
      "../probe37_25oct18/01413microseimen_per_cm_500samp.mat\n",
      "../probe37_25oct18/01413microseimen_per_cm_500samp.mat\n",
      "../probe37_25oct18/10000microseimen_per_cm_500samp.mat\n",
      "../probe37_25oct18/10000microseimen_per_cm_500samp.mat\n",
      "../probe37_25oct18/1000microseimen_per_cm_500samp.mat\n",
      "../probe37_25oct18/1000microseimen_per_cm_500samp.mat\n",
      "../probe37_25oct18/100microseimen_per_cm_500samp.mat\n",
      "../probe37_25oct18/100microseimen_per_cm_500samp.mat\n"
     ]
    },
    {
     "data": {
      "image/png": "[encoded data removed]",
      "text/plain": [
       "<Figure size 1000x500 with 2 Axes>"
      ]
     },
     "metadata": {},
     "output_type": "display_data"
    }
   ],
   "source": [
    "file_num = 7\n",
    "colors = ['red','darkorange','gold','green','blue', 'purple', 'orchid','turquoise']\n",
    "cond = np.array([9.83, 99.90, 997.00, 1411.0, 10020, 0, 0, 99855])\n",
    "labels = np.array(['10', '100', '1k', '1413', '10k', 'no probe', 'tap wat.','100k'])\n",
    "\n",
    "mean_read = np.zeros(file_num+1)\n",
    "std_read = np.zeros(file_num+1)\n",
    "\n",
    "fig, (ax0, ax1) = plt.subplots(1,2, figsize=(10,5), sharey=True)\n",
    "\n",
    "for filepath, ii, col, lab in zip(glob.iglob('../probe37_25oct18/*.mat'), \n",
    "                                  range(file_num), colors, labels):\n",
    "    print(filepath)\n",
    "    mat = sio.loadmat(filepath, squeeze_me=True)\n",
    "    ch1 = mat['ch1']\n",
    "    time = mat['time']\n",
    "    nsamples = mat['nSamples']\n",
    "    \n",
    "    mean_read[ii] = np.mean(ch1)\n",
    "    std_read[ii] = np.std(ch1)\n",
    "    \n",
    "    ax0.plot(time,ch1, color=col)\n",
    "    ax1.plot(np.arange(nsamples),ch1, label=lab, color=col)\n",
    "\n",
    "    print(filepath)\n",
    "\n",
    "mat = sio.loadmat('../probe37_04dec18/99855microseimen_per_cm_1000samp_04dec18_origCab2.mat', squeeze_me=True)\n",
    "ch1 = mat['ch1']\n",
    "time = mat['time']\n",
    "nsamples = mat['nSamples']\n",
    "mean_read[ii+1] = np.mean(ch1)\n",
    "std_read[ii+1] = np.std(ch1)\n",
    "    \n",
    "ax0.plot(time,ch1, color='turquoise')\n",
    "ax1.plot(np.arange(nsamples),ch1, label='100k', color='turquoise')\n",
    "\n",
    "ax1.legend(bbox_to_anchor=(1,1))\n",
    "ax0.set_ylabel('reading / au')\n",
    "ax0.set_xlabel('time / s')\n",
    "ax1.set_xlabel('sample')\n",
    "ax0.set_yscale('log')"
   ]
  },
  {
   "cell_type": "code",
   "execution_count": 37,
   "metadata": {
    "collapsed": false
   },
   "outputs": [
    {
     "data": {
      "text/plain": [
       "Text(0.5,0,'conductivity / $\\\\mu$ Siemens')"
      ]
     },
     "execution_count": 37,
     "metadata": {},
     "output_type": "execute_result"
    },
    {
     "data": {
      "image/png": "[encoded data removed]",
      "text/plain": [
       "<Figure size 800x300 with 2 Axes>"
      ]
     },
     "metadata": {},
     "output_type": "display_data"
    }
   ],
   "source": [
    "fig, (ax0,ax1) = plt.subplots(1,2, figsize=(8,3), sharey = True)\n",
    "for ii in range(file_num+1):\n",
    "    ax0.errorbar(cond[ii],mean_read[ii],yerr=std_read[ii], \n",
    "                 fmt='o',color=colors[ii], label=labels[ii])\n",
    "    ax1.errorbar(cond[ii],mean_read[ii],yerr=std_read[ii], \n",
    "                 fmt='o',color=colors[ii], label=labels[ii])\n",
    "ax0.legend(loc=2)\n",
    "ax0.set_ylabel('reading')\n",
    "ax0.set_xlabel('conductivity / $\\mu$ Siemens')\n",
    "ax0.set_xscale('log')\n",
    "ax1.set_xlabel('conductivity / $\\mu$ Siemens')\n",
    "\n"
   ]
  },
  {
   "cell_type": "code",
   "execution_count": 38,
   "metadata": {
    "collapsed": false
   },
   "outputs": [
    {
     "data": {
      "text/plain": [
       "Text(0.5,0,'Conductivity / $\\\\mu$Siemens')"
      ]
     },
     "execution_count": 38,
     "metadata": {},
     "output_type": "execute_result"
    },
    {
     "data": {
      "image/png": "[encoded data removed]",
      "text/plain": [
       "<Figure size 500x300 with 1 Axes>"
      ]
     },
     "metadata": {},
     "output_type": "display_data"
    }
   ],
   "source": [
    "fig, (ax0) = plt.subplots(1,1, figsize=(5,3))\n",
    "ind = [2,3,4,7]\n",
    "for ii in ind:\n",
    "    ax0.errorbar(cond[ii],mean_read[ii],yerr=std_read[ii], \n",
    "                 fmt='o',color=colors[ii], label=labels[ii])\n",
    "\n",
    "ax0.legend(loc=0)\n",
    "ax0.set_ylabel('reading / au')\n",
    "ax0.set_xlabel(r'Conductivity / $\\mu$Siemens')"
   ]
  },
  {
   "cell_type": "markdown",
   "metadata": {},
   "source": [
    "I'm interested in a range of readings between 0.5 and 2 (see last section). The relationship does not look very linear from 10k to 100k $\\mu$Siemens. It could be that the standard I used is too old (expired in 2015). Maybe I can open al standards on that box and see if they all give different measurments to what I got with the newer ones."
   ]
  },
  {
   "cell_type": "markdown",
   "metadata": {},
   "source": [
    "## Convert conduino readings to conductivity and salinty\n",
    "\n",
    "Traceable Conductivity standards (from the bottle labels)\n",
    "\n",
    "|Catalog number| Micromho/cm| Microsiemen/cm| Ohm-cm | PPM D.S.| Temperature| Lot Number | Exp date|\n",
    "|::|::|::|::|::|::|::|::|\n",
    "|09-328-4 11774226 | 10020| 10020 | 99.80 | 6680 | 25 | CC169226 |2/22/2019|\n",
    "|09-328-11 11714236 | 1411.00| 1411.0 | 708.72 | 941 | 25 | CC17082 |4/11/2019|\n",
    "|09-328-3 11764226 | 997.00| 997.00 | 1003.01 | 665 | 25 | CC16974 |3/7/2019|\n",
    "|09-328-1 11754226 | 99.90| 99.90 | 10010.01 | 67 | 25 | CC17057 |4/3/2019|\n",
    "|09-328-1 11744226 | 9.83| 9.83 | 101729.40 | 7 | 25 | CC17014 |3/15/2019|\n",
    "| | 1| 1 | 1 | 0.66 | 25 |  | tables|\n",
    "|09-328-10  | 99855| 99855| 10.01 | 66570 | 25 | CC12903 |6/16/2015|\n",
    "\n",
    "Should be /cm$^3$.\n",
    "\n",
    "Their conversion is \n",
    "\n",
    "microsiemen * 0.66 = parts per million (mg/l) of dissolved solids\n"
   ]
  },
  {
   "cell_type": "markdown",
   "metadata": {},
   "source": [
    "Mi salinities range between 1.047 g/cm^3 (6 ppt) and 0.998 g/cm^3\n",
    "\n",
    "That is equivalent to 63000. Seawater has approx conductivity of 50000 microSiemens for salinity about 35.\n",
    "\n",
    "In what range are my salinities? Way beyond that. At 20 degC.\n",
    "\n",
    "|Depth| cond. mean read | density g/cm$^3$| \n",
    "|::|::|::|\n",
    "|Surface|0.53||\n",
    "|Shelf break|1.41||\n",
    "|Deep|1.81|1.0468|\n",
    "\n"
   ]
  },
  {
   "cell_type": "code",
   "execution_count": null,
   "metadata": {
    "collapsed": false
   },
   "outputs": [],
   "source": []
  },
  {
   "cell_type": "code",
   "execution_count": null,
   "metadata": {
    "collapsed": true
   },
   "outputs": [],
   "source": []
  }
 ],
 "metadata": {
  "kernelspec": {
   "display_name": "Python 3",
   "language": "python",
   "name": "python3"
  },
  "language_info": {
   "codemirror_mode": {
    "name": "ipython",
    "version": 3
   },
   "file_extension": ".py",
   "mimetype": "text/x-python",
   "name": "python",
   "nbconvert_exporter": "python",
   "pygments_lexer": "ipython3",
   "version": "3.5.1"
  }
 },
 "nbformat": 4,
 "nbformat_minor": 0
}
