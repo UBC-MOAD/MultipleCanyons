{
 "cells": [
  {
   "cell_type": "markdown",
   "metadata": {},
   "source": [
    "## Testing probes\n"
   ]
  },
  {
   "cell_type": "code",
   "execution_count": 1,
   "metadata": {},
   "outputs": [],
   "source": [
    "import os\n",
    "import glob\n",
    "import matplotlib.pyplot as plt\n",
    "%matplotlib inline\n",
    "import numpy as np\n",
    "from numpy.polynomial import polynomial as P\n",
    "import pandas as pd\n",
    "import seaborn as sns\n",
    "import scipy.io as sio\n",
    "import warnings\n",
    "warnings.filterwarnings(\"ignore\")"
   ]
  },
  {
   "cell_type": "code",
   "execution_count": 3,
   "metadata": {},
   "outputs": [
    {
     "data": {
      "text/html": [
       "<script>\n",
       "code_show=true; \n",
       "function code_toggle() {\n",
       " if (code_show){\n",
       " $('div.input').hide();\n",
       " } else {\n",
       " $('div.input').show();\n",
       " }\n",
       " code_show = !code_show\n",
       "} \n",
       "$( document ).ready(code_toggle);\n",
       "</script>\n",
       "<form action=\"javascript:code_toggle()\"><input type=\"submit\" value=\"Click here to toggle on/off the raw code.\"></form>"
      ],
      "text/plain": [
       "<IPython.core.display.HTML object>"
      ]
     },
     "execution_count": 3,
     "metadata": {},
     "output_type": "execute_result"
    }
   ],
   "source": [
    "from IPython.display import HTML\n",
    "\n",
    "HTML('''<script>\n",
    "code_show=true; \n",
    "function code_toggle() {\n",
    " if (code_show){\n",
    " $('div.input').hide();\n",
    " } else {\n",
    " $('div.input').show();\n",
    " }\n",
    " code_show = !code_show\n",
    "} \n",
    "$( document ).ready(code_toggle);\n",
    "</script>\n",
    "<form action=\"javascript:code_toggle()\"><input type=\"submit\" value=\"Click here to toggle on/off the raw code.\"></form>''')"
   ]
  },
  {
   "cell_type": "code",
   "execution_count": 2,
   "metadata": {},
   "outputs": [],
   "source": [
    "densities = np.array([0.99707, 1.01072, 1.01613, 1.02175, 1.03054, 1.04765])"
   ]
  },
  {
   "cell_type": "code",
   "execution_count": 6,
   "metadata": {},
   "outputs": [
    {
     "name": "stdout",
     "output_type": "stream",
     "text": [
      "../probe_testing_15nov19/sample1.mat\n",
      "../probe_testing_15nov19/sample2.mat\n",
      "../probe_testing_15nov19/sample3.mat\n",
      "../probe_testing_15nov19/sample4.mat\n",
      "../probe_testing_15nov19/sample5.mat\n",
      "../probe_testing_15nov19/sample6.mat\n"
     ]
    },
    {
     "data": {
      "text/plain": [
       "Text(0.5,1,'CH2 - downstream ')"
      ]
     },
     "execution_count": 6,
     "metadata": {},
     "output_type": "execute_result"
    },
    {
     "data": {
      "image/png": "[encoded data removed]",
      "text/plain": [
       "<Figure size 720x360 with 2 Axes>"
      ]
     },
     "metadata": {},
     "output_type": "display_data"
    }
   ],
   "source": [
    "nums = ['1','2','3','4','5','6']\n",
    "file_num = len(nums)\n",
    "\n",
    "mean_read_ch1 = np.zeros(file_num)\n",
    "std_read_ch1 = np.zeros(file_num)\n",
    "\n",
    "mean_read_ch2 = np.zeros(file_num)\n",
    "std_read_ch2 = np.zeros(file_num)\n",
    "\n",
    "fig, (ax0, ax1) = plt.subplots(1,2, figsize=(10,5), sharey=True)\n",
    "\n",
    "for num, ii in zip(nums, range(file_num)):\n",
    "    filepath = '../probe_testing_15nov19/sample%s.mat' %num\n",
    "    print(filepath)\n",
    "    mat = sio.loadmat(filepath, squeeze_me=True)\n",
    "    ch1 = mat['ch1']\n",
    "    ch2 = mat['ch2']\n",
    "    time = mat['time']\n",
    "    nsamples = mat['nSamples']\n",
    "    \n",
    "    mean_read_ch1[ii] = np.mean(ch1)\n",
    "    std_read_ch1[ii] = np.std(ch1)\n",
    "    \n",
    "    mean_read_ch2[ii] = np.mean(ch2)\n",
    "    std_read_ch2[ii] = np.std(ch2)\n",
    " \n",
    "    ax0.plot(time,ch1)\n",
    "    ax1.plot(time,ch2, label='%1.3f' %densities[ii])\n",
    "    \n",
    "ax1.legend(bbox_to_anchor=(1,1))\n",
    "ax0.set_ylabel('reading / au')\n",
    "ax0.set_xlabel('time / s')\n",
    "ax1.set_xlabel('time / s')\n",
    "ax0.set_title('CH1 - upstream')\n",
    "ax1.set_title('CH2 - downstream ')"
   ]
  },
  {
   "cell_type": "code",
   "execution_count": null,
   "metadata": {},
   "outputs": [],
   "source": []
  },
  {
   "cell_type": "code",
   "execution_count": null,
   "metadata": {
    "collapsed": true
   },
   "outputs": [],
   "source": []
  }
 ],
 "metadata": {
  "anaconda-cloud": {},
  "kernelspec": {
   "display_name": "Python [default]",
   "language": "python",
   "name": "python3"
  },
  "language_info": {
   "codemirror_mode": {
    "name": "ipython",
    "version": 3
   },
   "file_extension": ".py",
   "mimetype": "text/x-python",
   "name": "python",
   "nbconvert_exporter": "python",
   "pygments_lexer": "ipython3",
   "version": "3.5.4"
  }
 },
 "nbformat": 4,
 "nbformat_minor": 1
}
