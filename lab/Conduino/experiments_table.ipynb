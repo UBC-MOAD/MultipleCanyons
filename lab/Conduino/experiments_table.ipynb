{
 "cells": [
  {
   "cell_type": "markdown",
   "metadata": {},
   "source": [
    "### Make table of experiments for Chapter 4\n",
    "\n",
    "Latex formatted, ready to copy and paste."
   ]
  },
  {
   "cell_type": "code",
   "execution_count": 1,
   "metadata": {},
   "outputs": [],
   "source": [
    "import glob\n",
    "import numpy as np\n",
    "import os\n",
    "import warnings\n",
    "warnings.filterwarnings(\"ignore\")\n",
    "\n",
    "import sys\n",
    "sys.path.append('/ocean/kramosmu/MultipleCanyons/lab/Conduino/scripts')\n",
    "import profiler_tools as ptools\n",
    "import conduino_tools as ctools\n",
    "\n",
    "# Information for all runs is stored in experiment_dictionaries.py\n",
    "lib_path = os.path.abspath('/ocean/kramosmu/MultipleCanyons/lab/Conduino/scripts') #Add absolute path to my python scripts\n",
    "sys.path.append(lib_path)\n",
    "\n",
    "import experiment_dictionaries as exdic"
   ]
  },
  {
   "cell_type": "code",
   "execution_count": 3,
   "metadata": {},
   "outputs": [],
   "source": [
    "exp_dicts = [exdic.T01,exdic.T02,exdic.T03,exdic.T04,exdic.T05,\n",
    "             exdic.T06,exdic.T07,exdic.T08,exdic.T09,exdic.T10,\n",
    "             exdic.T11,exdic.T12,exdic.T13b,exdic.T14,exdic.T15,exdic.T16,exdic.T17,\n",
    "             exdic.DYE02,exdic.S01,exdic.S02, \n",
    "             exdic.S03, exdic.S04,exdic.S05, exdic.S06, exdic.S07,\n",
    "             exdic.S08, exdic.S09, exdic.S10, exdic.S11, exdic.S12]\n",
    "exp_names = ['T01','T02', 'T03', 'T04', 'T05','T06', 'T07', \n",
    "             'T08', 'T09','T10', 'T11', 'T12','T13','T14','T15','T16','T17',\n",
    "             'DYE02','S01',\n",
    "             'S02','S03','S04','S05','S06','S07','S08','S09',\n",
    "             'S10','S11','S12']\n",
    "canyon_num = [2,2,2,2,2,2,2,2,2,2,2,2,2,2,2,2,2,2,1,1,1,1,1,1,1,1,1,1,1,1]"
   ]
  },
  {
   "cell_type": "code",
   "execution_count": 4,
   "metadata": {},
   "outputs": [
    {
     "name": "stdout",
     "output_type": "stream",
     "text": [
      "Experiment &\tNum. of canyons &\tReplicates &\t$N$ (s$^{-1}$)$&\t$f_0$ (s$^{-1}$)&\tmax $U$ (cm s$^{-1}$)&\t$R_W$&\t$B_u$\ta\n",
      "T01\t\t&2\t&3\t&1.46$\\pm$0.060&\t0.5&\t0.50&\t0.20\t&1.69$\\pm$0.069&\t8.47$\\pm$0.346\tmkr\n",
      "T02\t\t&2\t&3\t&1.02$\\pm$0.010&\t0.5&\t0.50&\t0.20\t&1.18$\\pm$0.011&\t5.91$\\pm$0.057\tmkr\n",
      "T03\t\t&2\t&3\t&1.23$\\pm$0.017&\t0.5&\t0.50&\t0.20\t&1.40$\\pm$0.019&\t6.99$\\pm$0.095\tmkr\n",
      "T04\t\t&2\t&4\t&1.41$\\pm$0.105&\t0.5&\t0.50&\t0.20\t&1.64$\\pm$0.121&\t8.18$\\pm$0.607\tmkr\n",
      "T05\t\t&2\t&2\t&1.45$\\pm$0.009&\t0.5&\t0.50&\t0.20\t&1.68$\\pm$0.011&\t8.40$\\pm$0.054\tmkr\n",
      "T06\t\t&2\t&2\t&1.74$\\pm$0.094&\t0.8&\t0.50&\t0.12\t&1.24$\\pm$0.067&\t6.20$\\pm$0.335\tmkr\n",
      "T07\t\t&2\t&3\t&1.49$\\pm$0.051&\t0.8&\t0.50&\t0.12\t&1.08$\\pm$0.037&\t5.41$\\pm$0.187\tmkr\n",
      "T08\t\t&2\t&3\t&1.82$\\pm$0.122&\t0.8&\t0.50&\t0.12\t&1.32$\\pm$0.088&\t6.61$\\pm$0.442\tmkr\n",
      "T09\t\t&2\t&3\t&1.55$\\pm$0.104&\t0.5&\t0.25&\t0.10\t&1.80$\\pm$0.120&\t8.98$\\pm$0.602\tmkr\n",
      "T10\t\t&2\t&1\t&1.90$\\pm$0.000&\t0.7&\t0.38&\t0.11\t&1.60$\\pm$0.000&\t8.01$\\pm$0.000\tmkr\n",
      "T11\t\t&2\t&1\t&1.59$\\pm$0.000&\t0.7&\t0.50&\t0.14\t&1.34$\\pm$0.000&\t6.71$\\pm$0.000\tmkr\n",
      "T12\t\t&2\t&1\t&1.60$\\pm$0.000&\t0.7&\t0.62&\t0.18\t&1.34$\\pm$0.000&\t6.72$\\pm$0.000\tmkr\n",
      "T13\t\t&2\t&3\t&1.64$\\pm$0.088&\t0.7&\t0.50&\t0.14\t&1.36$\\pm$0.073&\t6.79$\\pm$0.364\tmkr\n",
      "T14\t\t&2\t&3\t&1.41$\\pm$0.110&\t0.7&\t0.50&\t0.14\t&1.21$\\pm$0.094&\t6.06$\\pm$0.470\tmkr\n",
      "T15\t\t&2\t&3\t&1.22$\\pm$0.021&\t0.7&\t0.50&\t0.14\t&1.01$\\pm$0.017&\t5.04$\\pm$0.086\tmkr\n",
      "T16\t\t&2\t&2\t&1.88$\\pm$0.078&\t0.7&\t0.38&\t0.11\t&1.56$\\pm$0.065&\t7.78$\\pm$0.323\tmkr\n",
      "T17\t\t&2\t&2\t&1.38$\\pm$0.013&\t0.7&\t0.38&\t0.11\t&1.14$\\pm$0.011&\t5.72$\\pm$0.056\tmkr\n",
      "DYE02\t\t&2\t&1\t&1.19$\\pm$0.000&\t0.7&\t0.62&\t0.18\t&0.99$\\pm$0.000&\t4.94$\\pm$0.000\tmkr\n",
      "S01\t\t&1\t&1\t&1.83$\\pm$0.000&\t0.7&\t0.36&\t0.10\t&1.52$\\pm$0.000&\t7.59$\\pm$0.000\tmkr\n",
      "S02\t\t&1\t&1\t&1.60$\\pm$0.000&\t0.7&\t0.50&\t0.14\t&1.33$\\pm$0.000&\t6.63$\\pm$0.000\tmkr\n",
      "S03\t\t&1\t&1\t&1.47$\\pm$0.000&\t0.7&\t0.62&\t0.18\t&1.21$\\pm$0.000&\t6.07$\\pm$0.000\tmkr\n",
      "S04\t\t&1\t&1\t&1.48$\\pm$0.000&\t0.8&\t0.50&\t0.12\t&1.08$\\pm$0.000&\t5.38$\\pm$0.000\tmkr\n",
      "S05\t\t&1\t&1\t&1.40$\\pm$0.000&\t0.8&\t0.50&\t0.12\t&1.01$\\pm$0.000&\t5.06$\\pm$0.000\tmkr\n",
      "S06\t\t&1\t&1\t&1.39$\\pm$0.000&\t0.8&\t0.50&\t0.12\t&1.01$\\pm$0.000&\t5.03$\\pm$0.000\tmkr\n",
      "S07\t\t&1\t&1\t&1.24$\\pm$0.000&\t0.5&\t0.25&\t0.10\t&1.44$\\pm$0.000&\t7.21$\\pm$0.000\tmkr\n",
      "S08\t\t&1\t&1\t&1.29$\\pm$0.000&\t0.5&\t0.38&\t0.15\t&1.50$\\pm$0.000&\t7.50$\\pm$0.000\tmkr\n",
      "S09\t\t&1\t&1\t&1.18$\\pm$0.000&\t0.5&\t0.50&\t0.20\t&1.37$\\pm$0.000&\t6.86$\\pm$0.000\tmkr\n",
      "S10\t\t&1\t&1\t&1.77$\\pm$0.000&\t0.7&\t0.38&\t0.11\t&1.46$\\pm$0.000&\t7.32$\\pm$0.000\tmkr\n",
      "S11\t\t&1\t&1\t&1.67$\\pm$0.000&\t0.7&\t0.50&\t0.14\t&1.38$\\pm$0.000&\t6.91$\\pm$0.000\tmkr\n",
      "S12\t\t&1\t&1\t&1.43$\\pm$0.000&\t0.7&\t0.62&\t0.18\t&1.18$\\pm$0.000&\t5.91$\\pm$0.000\tmkr\n"
     ]
    }
   ],
   "source": [
    "# Header\n",
    "print (\"\\t\".join(['Experiment &','Num. of canyons &','Replicates &','$N$ (s$^{-1}$)$&', \n",
    "                  '$f_0$ (s$^{-1}$)&', 'max $U$ (cm s$^{-1}$)&', '$R_W$&','$B_u$','a',\n",
    "                 ]))\n",
    "rho0 = 998.5\n",
    "g = 9.81\n",
    "W = 0.05 # m\n",
    "L = 0.12 # m\n",
    "\n",
    "# Cells  \n",
    "for exp,kk,name,cny_num in zip(exp_dicts, range(len(exp_dicts)), exp_names, canyon_num):   \n",
    "    N = np.ones(len(exp['run_files']))*np.nan\n",
    "    \n",
    "    for ii in range(len(exp['run_files'])):\n",
    "        if np.isnan(exp[\"rho_sb\"][ii])==True:\n",
    "            N[ii] =((g/rho0)*((1000*exp[\"rho_sb\"][ii-1]-1000*exp[\"rho_top\"][ii-1])/(exp[\"hsb\"]*0.01)))**0.5\n",
    "        else:\n",
    "            N[ii] =((g/rho0)*((1000*exp[\"rho_sb\"][ii]-1000*exp[\"rho_top\"][ii])/(exp[\"hsb\"]*0.01)))**0.5\n",
    "                         \n",
    "    N_avg = np.nanmean(N)\n",
    "    N_std = np.nanstd(N)\n",
    "    f = exp[\"fo\"] # rad/s\n",
    "    U = exp[\"U\"]/100 # m/s\n",
    "    Hs = exp[\"hsb\"]/100 # m\n",
    "    Bu = np.nanmean(N*Hs/(f*W))\n",
    "    Bu_std = np.nanstd(N*Hs/(f*W))\n",
    "    Rw = U/(f*W)\n",
    "    a = np.nanmean(N*Hs/f)\n",
    "    a_std = np.nanstd(N*Hs/f)\n",
    "    \n",
    "    print (\"\\t\".join(['%s\\t\\t&%d\\t&%d\\t&%1.2f$\\pm$%1.3f&\\t%1.1f&\\t%1.2f&\\t%1.2f\\t&%1.2f$\\pm$%1.3f&\\t%1.2f$\\pm$%1.3f\\tmkr' \n",
    "                      % (name, \n",
    "                         cny_num,\n",
    "                         len(exp['run_files']),\n",
    "                         N_avg,N_std,\n",
    "                         f,U*100,Rw,\n",
    "                         Bu,Bu_std,\n",
    "                         a*100,a_std*100,\n",
    "                          )\n",
    "                       ]))"
   ]
  },
  {
   "cell_type": "code",
   "execution_count": null,
   "metadata": {},
   "outputs": [],
   "source": []
  }
 ],
 "metadata": {
  "anaconda-cloud": {},
  "kernelspec": {
   "display_name": "Python 3 (ipykernel)",
   "language": "python",
   "name": "python3"
  },
  "language_info": {
   "codemirror_mode": {
    "name": "ipython",
    "version": 3
   },
   "file_extension": ".py",
   "mimetype": "text/x-python",
   "name": "python",
   "nbconvert_exporter": "python",
   "pygments_lexer": "ipython3",
   "version": "3.9.7"
  }
 },
 "nbformat": 4,
 "nbformat_minor": 1
}
