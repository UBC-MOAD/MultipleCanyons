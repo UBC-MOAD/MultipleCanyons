{
 "cells": [
  {
   "cell_type": "code",
   "execution_count": 1,
   "metadata": {},
   "outputs": [],
   "source": [
    "# Calculate and save HCW on shelf\n",
    "from netCDF4 import Dataset\n",
    "import matplotlib.pyplot as plt\n",
    "import numpy as np\n",
    "import pandas as pd\n",
    "import warnings\n",
    "warnings.filterwarnings(\"ignore\")\n",
    "import xarray as xr"
   ]
  },
  {
   "cell_type": "code",
   "execution_count": 56,
   "metadata": {},
   "outputs": [],
   "source": [
    "def arrayExpand(array,Tr, dim=0):\n",
    "    '''Expand the dimensions of array along dimension dim to fit those of Tr. Array should have one dimension less than Tr (time axis=0). \n",
    "    It adds a dimension along axis dim.'''\n",
    "    arr_expand = np.expand_dims(array,dim)\n",
    "    arr_expand = arr_expand + np.zeros(Tr.shape)\n",
    "    return arr_expand\n",
    "\n",
    "# -------------------------------------------------------------------------------------------------------------------------\n",
    "def calc_HCW(Tr,MaskC,rA,hFacC,drF,nzlim=29,yin=227,xin=120,xfin=359,zfin=29,xi=180,yi=50):\n",
    "    '''\n",
    "    INPUT----------------------------------------------------------------------------------------------------------------\n",
    "    Tr    : Array with concentration values for a tracer. Until this function is more general, this should be size 19x90x360x360\n",
    "    MaskC : Land mask for tracer\n",
    "    nzlim : The nz index under which to look for water properties\n",
    "    rA    : Area of cell faces at C points (360x360)\n",
    "    fFacC : Fraction of open cell (90x360x360)\n",
    "    drF   : Distance between cell faces (90)\n",
    "    yin   : across-shore index of shelf break\n",
    "    xin   : alongshore index first cell of downstram box\n",
    "    xfin   : alongshore index of final cell of downstream box\n",
    "    zfin  : shelf break index + 1 \n",
    "    xi    : initial profile x index\n",
    "    yi    : initial profile y index\n",
    "      \n",
    "    All dimensions should match.\n",
    "    \n",
    "    OUTPUT----------------------------------------------------------------------------------------------------------------\n",
    "    VolWaterHighConc =  np array with the volume of water with concentration equal or higher than the concentration at Z[nzlim]\n",
    "    in the initial volume defined by the dimensions of Tr at every time output.\n",
    "    ---------------------------------------------------------------------------------------------------------------------\n",
    "    '''\n",
    "    maskExp = arrayExpand(MaskC,Tr)\n",
    "    TrMask = np.ma.masked_array(Tr,mask=maskExp)   \n",
    "    trlim = TrMask[0,nzlim,yi,xi]\n",
    "    print('tracer limit concentration is: ',trlim)\n",
    "    WaterX = 0\n",
    "    \n",
    "    # mask cells with tracer concentration < trlim on shelf\n",
    "    HighConc_Masked = np.ma.masked_less(TrMask[:,:zfin,yin:,xin:xfin], trlim) \n",
    "    HighConc_Mask = HighConc_Masked.mask\n",
    "    \n",
    "    #Get volume of water of cells with relatively high concentration\n",
    "    rA_exp = np.expand_dims(rA[yin:,xin:xfin],0)\n",
    "    drF_exp = np.expand_dims(np.expand_dims(drF[:zfin],1),1)\n",
    "    rA_exp = rA_exp + np.zeros(hFacC[:zfin,yin:,xin:xfin].shape)\n",
    "    drF_exp = drF_exp + np.zeros(hFacC[:zfin,yin:,xin:xfin].shape)\n",
    "    \n",
    "    ShelfVolume = hFacC[:zfin,yin:,xin:xfin]*drF_exp*rA_exp\n",
    "    ShelfVolume_exp = np.expand_dims(ShelfVolume,0)\n",
    "    ShelfVolume_exp = ShelfVolume_exp + np.zeros(HighConc_Mask.shape)\n",
    "    \n",
    "    HighConc_CellVol = np.ma.masked_array(ShelfVolume_exp,mask = HighConc_Mask) \n",
    "    VolWaterHighConc = np.zeros(np.shape(Tr)[0])+np.ma.sum(np.ma.sum(np.ma.sum(HighConc_CellVol,axis = 1),axis=1),axis=1)\n",
    "    return (VolWaterHighConc)"
   ]
  },
  {
   "cell_type": "code",
   "execution_count": 83,
   "metadata": {},
   "outputs": [],
   "source": [
    "# Load grid files\n",
    "\n",
    "CanyonGrid='/Volumes/balaenopter/BF5_from_PIV_two_canyons/run01/gridGlob.nc'\n",
    "CanyonGridOut = Dataset(CanyonGrid)\n",
    "\n",
    "CanyonState='/Volumes/balaenopter/BF5_from_PIV_two_canyons/run01/stateGlob.nc'\n",
    "CanyonStateOut = Dataset(CanyonState)\n",
    "\n",
    "# Grid params\n",
    "nx = 512 # theta\n",
    "ny = 266 # r\n",
    "nz = 175 # Orig. 90\n",
    "\n",
    "# Indices shelf box, etc\n",
    "xi = 255\n",
    "yi = 50\n",
    "nzlim = int(29.5/0.5) \n",
    "yin = 124 \n",
    "xin = 243 # ups box\n",
    "zfin = nzlim+1 \n",
    "xfin = 298 # ups box\n",
    "\n",
    "# Tracer key\n",
    "keyAdv = 'S' # tracer used to track water S=Salinity\n",
    "\n",
    "# Experiment id\n",
    "run = 'run01'\n",
    "\n",
    "# Grid variables\n",
    "xc = CanyonGridOut.variables['XC'] # theta - x coords tracer cells\n",
    "yc = CanyonGridOut.variables['YC'] # r - y coords tracer cells\n",
    "rc = CanyonGridOut.variables['RC']\n",
    "dxg = CanyonGridOut.variables['dxG'] # x coords tracer cells\n",
    "dyg = CanyonGridOut.variables['dyG'] # y coords tracer cells\n",
    "\n",
    "bathy = CanyonGridOut.variables['Depth']\n",
    "hFacC = CanyonGridOut.variables['HFacC'][:zfin+1,:,:] \n",
    "hFacmasked = np.ma.masked_values(hFacC, 0)\n",
    "MaskC = np.ma.getmask(hFacmasked)\n",
    "\n",
    "HFacC_NoC = arrayExpand(hFacC[:,:,320], hFacC, dim=2)\n",
    "maskC_NoC = arrayExpand(maskC[:,:,320], maskC, dim=2)           # Make a no canyon mask\n",
    "\n",
    "rA = CanyonGridOut.variables['rA']\n",
    "z = CanyonStateOut.variables['Z']\n",
    "drF = CanyonGridOut.variables['drF']\n",
    "time = CanyonStateOut.variables['T']"
   ]
  },
  {
   "cell_type": "code",
   "execution_count": 84,
   "metadata": {},
   "outputs": [
    {
     "name": "stdout",
     "output_type": "stream",
     "text": [
      "tracer limit concentration is:  28.192465\n",
      "tracer limit concentration is:  28.192465\n",
      "HCW_run01.csv\n"
     ]
    }
   ],
   "source": [
    "state = xr.open_dataset(CanyonState)\n",
    "\n",
    "TrAdv = state[keyAdv][:,:zfin+1,:,:] \n",
    "\n",
    "HCW_ups = calc_HCW(TrAdv.data, maskC_NoC[:zfin+1,:,:], rA, HFacC_NoC, drF[:zfin+1],nzlim=nzlim, yin=yin, \n",
    "                   xin=xin, xfin=xfin, zfin=zfin, xi=xi, yi=yi)\n",
    "HCW_dns = calc_HCW(TrAdv.data, maskC_NoC[:zfin+1,:,:], rA, HFacC_NoC, drF[:zfin+1],nzlim=nzlim, yin=yin, \n",
    "                    xin=188, xfin=243, zfin=zfin, xi=xi, yi=yi)\n",
    "\n",
    "raw_data = {'time' : time,'HCW_ups': HCW_ups, 'HCW_dns': HCW_dns}\n",
    "df = pd.DataFrame(raw_data, columns = ['time' ,'HCW_ups', 'HCW_dns'])\n",
    "\n",
    "filename1 = ('HCW_%s.csv' %(run))\n",
    "df.to_csv(filename1)\n",
    "print(filename1)"
   ]
  },
  {
   "cell_type": "code",
   "execution_count": 85,
   "metadata": {},
   "outputs": [
    {
     "data": {
      "text/plain": [
       "[<matplotlib.lines.Line2D at 0x7f9259f8ce90>]"
      ]
     },
     "execution_count": 85,
     "metadata": {},
     "output_type": "execute_result"
    },
    {
     "data": {
      "image/png": "[encoded data removed]",
      "text/plain": [
       "<Figure size 432x288 with 1 Axes>"
      ]
     },
     "metadata": {
      "needs_background": "light"
     },
     "output_type": "display_data"
    }
   ],
   "source": [
    "plt.plot(time,HCW_ups)\n",
    "plt.plot(time,HCW_dns)"
   ]
  },
  {
   "cell_type": "markdown",
   "metadata": {},
   "source": [
    "This is not going to work. Before I considered the whole shelf, but now I can't do that and it is hard to split what comes from each canyon."
   ]
  },
  {
   "cell_type": "code",
   "execution_count": null,
   "metadata": {},
   "outputs": [],
   "source": []
  },
  {
   "cell_type": "code",
   "execution_count": null,
   "metadata": {},
   "outputs": [],
   "source": []
  }
 ],
 "metadata": {
  "kernelspec": {
   "display_name": "Python 3",
   "language": "python",
   "name": "python3"
  },
  "language_info": {
   "codemirror_mode": {
    "name": "ipython",
    "version": 3
   },
   "file_extension": ".py",
   "mimetype": "text/x-python",
   "name": "python",
   "nbconvert_exporter": "python",
   "pygments_lexer": "ipython3",
   "version": "3.7.6"
  }
 },
 "nbformat": 4,
 "nbformat_minor": 4
}
