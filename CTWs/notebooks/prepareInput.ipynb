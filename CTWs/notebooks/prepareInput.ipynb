{
 "cells": [
  {
   "cell_type": "markdown",
   "metadata": {},
   "source": [
    "## Prepare input for Brink code for Lab runs\n",
    "\n",
    "* Shelf profile\n",
    "* Stratification\n",
    "* Input to all answers in code set up\n",
    "\n",
    "Structure and snippets from Idalia's notebook ([https://nbviewer.jupyter.org/urls/bitbucket.org/CanyonsUBC/analysis_mackenzie_canyon/raw/tip/notebooks/general_circulation/Brink_program.ipynb])"
   ]
  },
  {
   "cell_type": "code",
   "execution_count": 1,
   "metadata": {
    "collapsed": true
   },
   "outputs": [],
   "source": [
    "import cmocean as cmo\n",
    "import gsw\n",
    "import matplotlib.pyplot as plt\n",
    "from netCDF4 import Dataset\n",
    "import numpy as np\n",
    "import pandas as pd\n",
    "import scipy as sc, scipy.io\n",
    "from scipy import interpolate\n",
    "from scipy.interpolate import interp1d\n",
    "import scipy.io as sio\n",
    "\n",
    "import sys\n",
    "sys.path.append('/ocean/kramosmu/MultipleCanyons/lab/Conduino/scripts')\n",
    "import profiler_tools as ptools\n",
    "%matplotlib inline"
   ]
  },
  {
   "cell_type": "code",
   "execution_count": 2,
   "metadata": {
    "collapsed": true
   },
   "outputs": [],
   "source": [
    "def calc_rho(RhoRef,T,S,alpha=2.0E-4, beta=7.4E-4):\n",
    "    \"\"\"-----------------------------------------------------------------------------\n",
    "    calc_rho calculates the density in the water column using a linear equation of state.\n",
    "    \n",
    "    INPUT:\n",
    "    RhoRef : reference density at the same z as T and S slices. Can be a scalar or a \n",
    "             vector, depending on the size of T and S.\n",
    "    T, S   : should be either arrays or scalars (if arrays, in coordinate order (...,Z, Y , X )) \n",
    "    alpha = 2.0E-4 # 1/degC, thermal expansion coefficient\n",
    "    beta = 7.4E-4, haline expansion coefficient\n",
    "    OUTPUT:\n",
    "    rho - Density [...,ny,nx]\n",
    "    -----------------------------------------------------------------------------\"\"\"\n",
    "    \n",
    "    #Linear eq. of state \n",
    "    rho = RhoRef*(np.ones(np.shape(T)) - alpha*(T[...]) + beta*(S[...]))\n",
    "    return rho\n",
    "\n",
    "def calc_N2_lab(RhoRef,rho,drC):\n",
    "    '''INPUT:\n",
    "    RhoRef: reference density (scalar)\n",
    "    rho: density (1D array)\n",
    "    drC: vertical spacing between \n",
    "    OUTPUT:\n",
    "    N2: buoyancy frequency squared (1D array size nz-2)'''\n",
    "    \n",
    "    g = 9.81 # m/s^2\n",
    "    N2 = ((-g/RhoRef)*((rho[2:] - rho[:-2])/(drC[2:]+drC[:-2])))            \n",
    "    return(N2)\n",
    "\n",
    "def densP(read):\n",
    "    ''' Calibration from 02 May 2019 in ANK_P20_probes_02may19.ipynb'''\n",
    "    fitP = 0.998176+(0.001940*read)+(0.001296*read**2)-(0.000073*read**3)\n",
    "    return(fitP)\n"
   ]
  },
  {
   "cell_type": "markdown",
   "metadata": {},
   "source": [
    "### 1. Shelf profile"
   ]
  },
  {
   "cell_type": "code",
   "execution_count": 84,
   "metadata": {
    "collapsed": false
   },
   "outputs": [],
   "source": [
    "bat_file = 'BathySpacing01.nc'\n",
    "bathy = Dataset(bat_file)\n",
    "depth = bathy['Bathymetry'][:]\n",
    "X = bathy['X'][:]\n",
    "Y = bathy['Y'][:]\n"
   ]
  },
  {
   "cell_type": "code",
   "execution_count": 85,
   "metadata": {
    "collapsed": false
   },
   "outputs": [
    {
     "data": {
      "text/plain": [
       "<class 'netCDF4._netCDF4.Dataset'>\n",
       "root group (NETCDF4 data model, file format HDF5):\n",
       "    title: Spacing bathymetry 01\n",
       "    author: Karina Ramos Musalem\n",
       "    institution: Dept of Earth, Ocean & Atmospheric Sciences, University of British Columbia\n",
       "    source: bitbucket.org/CanyonsUBC/BuildCanyon/Bathymetry/GenerateTankBathymetry_Inserts.ipynb\n",
       "    description: Spacing bathymetry for 3D printing. Make into stl file. Three of these make up for all the space between 2 canyon inserts\n",
       "    timeStamp: Fri Sep 14 14:29:35 2018\n",
       "    dimensions(sizes): x(200), y(200)\n",
       "    variables(dimensions): float64 \u001b[4mX\u001b[0m(y,x), float64 \u001b[4mY\u001b[0m(y,x), float64 \u001b[4mBathymetry\u001b[0m(y,x)\n",
       "    groups: "
      ]
     },
     "execution_count": 85,
     "metadata": {},
     "output_type": "execute_result"
    }
   ],
   "source": [
    "bathy"
   ]
  },
  {
   "cell_type": "code",
   "execution_count": 102,
   "metadata": {
    "collapsed": false
   },
   "outputs": [
    {
     "data": {
      "text/plain": [
       "[<matplotlib.lines.Line2D at 0x7f3462df8198>]"
      ]
     },
     "execution_count": 102,
     "metadata": {},
     "output_type": "execute_result"
    },
    {
     "data": {
      "image/png": "[encoded data removed]",
      "text/plain": [
       "<Figure size 432x288 with 1 Axes>"
      ]
     },
     "metadata": {},
     "output_type": "display_data"
    }
   ],
   "source": [
    "x_ins = np.abs(np.flipud(X[0,:]-X[0,-1]))\n",
    "x_ext = np.append(np.abs(np.flipud(X[0,:]-X[0,-1])), [np.linspace(x_ins[-1]+0.007,x_ins[-1]+0.215,19)])\n",
    "depth_ins = np.append(np.flipud(depth[0,:]-0.095), -0.095*np.ones(19)) # 0.095 total depth. Depth at wall is too deep at 1cm\n",
    "\n",
    "plt.plot(x_ext, depth_ins,'o-')"
   ]
  },
  {
   "cell_type": "code",
   "execution_count": 103,
   "metadata": {
    "collapsed": false
   },
   "outputs": [],
   "source": [
    "# Cross-shelf points for input (depth, distance pairs)\n",
    "\n",
    "cs_points = 80\n",
    "x_interp = np.linspace(0,0.50, cs_points)\n",
    "\n",
    "f_int = interpolate.interp1d(x_ext, depth_ins, fill_value='extrapolate')\n",
    "cs_interp = np.round(f_int(x_interp),5)"
   ]
  },
  {
   "cell_type": "code",
   "execution_count": 104,
   "metadata": {
    "collapsed": false
   },
   "outputs": [
    {
     "data": {
      "text/plain": [
       "Text(0.5,0,'Cross-shelf distance / m')"
      ]
     },
     "execution_count": 104,
     "metadata": {},
     "output_type": "execute_result"
    },
    {
     "data": {
      "image/png": "[encoded data removed]",
      "text/plain": [
       "<Figure size 1440x360 with 2 Axes>"
      ]
     },
     "metadata": {},
     "output_type": "display_data"
    }
   ],
   "source": [
    "fig, ax = plt.subplots(1,2,figsize=(20,5))\n",
    "\n",
    "ax[0].contour(X,Y,depth, 10)\n",
    "ax[0].set_ylabel('Alongshelf distance / km')\n",
    "ax[0].set_xlabel('Cross-shelf distance/ km')\n",
    "ax[0].set_aspect(1)\n",
    "\n",
    "ax[1].plot(x_ext,depth_ins, 'o-')\n",
    "ax[1].plot(x_interp, cs_interp, 'o-') # revert because 0 distance has to be at the coast\n",
    "ax[1].axhline(0,color='0.5', linestyle='--')\n",
    "ax[1].axvline(0,color='0.5', linestyle='--')\n",
    "ax[1].axhline(-0.095,color='0.5', linestyle='--')\n",
    "ax[1].axhline(-0.029,color='0.5', linestyle='--')\n",
    "\n",
    "ax[1].set_ylabel('Depth / m')\n",
    "ax[1].set_xlabel('Cross-shelf distance / m')"
   ]
  },
  {
   "cell_type": "code",
   "execution_count": null,
   "metadata": {
    "collapsed": false
   },
   "outputs": [],
   "source": []
  },
  {
   "cell_type": "markdown",
   "metadata": {},
   "source": [
    "### 2. Stratification ($N^2$)"
   ]
  },
  {
   "cell_type": "code",
   "execution_count": 121,
   "metadata": {
    "collapsed": false
   },
   "outputs": [
    {
     "data": {
      "text/plain": [
       "Text(0,0.5,'depth / m')"
      ]
     },
     "execution_count": 121,
     "metadata": {},
     "output_type": "execute_result"
    },
    {
     "data": {
      "image/png": "[encoded data removed]",
      "text/plain": [
       "<Figure size 576x288 with 1 Axes>"
      ]
     },
     "metadata": {},
     "output_type": "display_data"
    }
   ],
   "source": [
    "# get probe measurements\n",
    "file = '/ocean/kramosmu/MultipleCanyons/lab/Conduino/Calibration/probe_interference_19may19/P20_profiler.mat'\n",
    "mat = sio.loadmat(file, squeeze_me=True)\n",
    "dens = densP(mat['ch3'][:])\n",
    "time = mat['time']\n",
    "ind = 5\n",
    "t_probe = time[ind:99]-time[ind]\n",
    "dens_probe = dens[ind:99]\n",
    "\n",
    "d_probe = ptools.profiler_19may(t_probe)\n",
    "\n",
    "# Append measurement from bottom\n",
    "d_probe = np.append(d_probe,[-9,-9.2,-9.33,-9.45])\n",
    "dens_probe = np.append(dens_probe,[1.0257,1.026,1.0263,1.02674])\n",
    "\n",
    "# plot\n",
    "fig, ax = plt.subplots(1,1,figsize=(8,4))\n",
    "ax.plot(dens_probe*1000, d_probe/100, 'o')\n",
    "\n",
    "ax.set_xlabel('density / kg m$^{-3}$')\n",
    "ax.set_ylabel('depth / m')"
   ]
  },
  {
   "cell_type": "code",
   "execution_count": null,
   "metadata": {
    "collapsed": false
   },
   "outputs": [],
   "source": []
  },
  {
   "cell_type": "code",
   "execution_count": 122,
   "metadata": {
    "collapsed": false
   },
   "outputs": [],
   "source": [
    "RhoRef = 999.750 # density bucket 2, fresh water\n",
    "Rho = dens_probe*1000\n",
    "dep = d_probe/100\n",
    "dz = dep[1:]-dep[:-1]\n",
    "\n",
    "N2 = calc_N2_lab(RhoRef,Rho[:-1],dz)"
   ]
  },
  {
   "cell_type": "code",
   "execution_count": 123,
   "metadata": {
    "collapsed": false
   },
   "outputs": [],
   "source": [
    "# Vertical levels for input and interpolation. Model requires a surface value for N^2.\n",
    "nlevs = 30\n",
    "z_interp = np.linspace(np.round(np.min(dep),4),0, nlevs)\n",
    "z_increment = np.mean(np.abs(z_interp[1:]-z_interp[:-1]))\n",
    "\n",
    "f_int = interpolate.interp1d(dep[1:-2], N2, fill_value='extrapolate')\n",
    "N2_interp = np.round(f_int(z_interp),12)"
   ]
  },
  {
   "cell_type": "code",
   "execution_count": 124,
   "metadata": {
    "collapsed": false
   },
   "outputs": [
    {
     "name": "stdout",
     "output_type": "stream",
     "text": [
      "-0.0945 1.59961465696\n",
      "-0.0912413793103 1.27345053102\n",
      "-0.0879827586207 1.23764962393\n",
      "-0.084724137931 1.40115142561\n",
      "-0.0814655172414 0.908794961885\n",
      "-0.0782068965517 1.23082478523\n",
      "-0.0749482758621 0.718642833745\n",
      "-0.0716896551724 0.950358312224\n",
      "-0.0684310344828 1.6536888742\n",
      "-0.0651724137931 0.956189214857\n",
      "-0.0619137931034 1.19364564462\n",
      "-0.0586551724138 0.723859576666\n",
      "-0.0553965517241 1.10496980552\n",
      "-0.0521379310345 1.10687229327\n",
      "-0.0488793103448 1.35220956026\n",
      "-0.0456206896552 1.23604431344\n",
      "-0.0423620689655 1.46919421817\n",
      "-0.0391034482759 1.37719554423\n",
      "-0.0358448275862 1.45841768561\n",
      "-0.0325862068966 1.70210067714\n",
      "-0.0293275862069 1.76526727824\n",
      "-0.0260689655172 1.47448159434\n",
      "-0.0228103448276 1.12760606411\n",
      "-0.0195517241379 1.30904529042\n",
      "-0.0162931034483 1.24845347568\n",
      "-0.0130344827586 1.69508208227\n",
      "-0.00977586206897 1.29913874815\n",
      "-0.00651724137931 0.984995442918\n",
      "-0.00325862068966 3.18375591928\n",
      "0.0 nan\n"
     ]
    },
    {
     "data": {
      "image/png": "[encoded data removed]",
      "text/plain": [
       "<Figure size 360x360 with 2 Axes>"
      ]
     },
     "metadata": {},
     "output_type": "display_data"
    }
   ],
   "source": [
    "fig, ax = plt.subplots(1,2,figsize=(5,5), sharey=True)\n",
    "\n",
    "ax[0].plot(Rho, dep, '.-')\n",
    "ax[0].set_xlabel('density / kg m$^{-3}$')\n",
    "ax[0].set_ylabel('depth / cm')\n",
    "\n",
    "ax[1].plot(N2, dep[1:-2], label='N2')\n",
    "ax[1].plot(N2_interp, z_interp,'o',color='orangered', label='interp')\n",
    "\n",
    "ax[1].set_xlabel('N$^2$ / s$^{-2}$')\n",
    "ax[1].set_ylabel('depth / m')\n",
    "ax[1].legend(loc=0)\n",
    "for zz, NN in zip(z_interp, N2_interp):\n",
    "    print(zz,np.sqrt(NN))"
   ]
  },
  {
   "cell_type": "markdown",
   "metadata": {},
   "source": [
    "### 3. Alongshore velocity and bottom friction"
   ]
  },
  {
   "cell_type": "code",
   "execution_count": 125,
   "metadata": {
    "collapsed": false
   },
   "outputs": [
    {
     "data": {
      "text/plain": [
       "0.001"
      ]
     },
     "execution_count": 125,
     "metadata": {},
     "output_type": "execute_result"
    }
   ],
   "source": [
    "# bottom friction ??? Not convinced about this\n",
    "CDmin = 0.002\n",
    "max_vel = 0.5 # cm/s\n",
    "bfr = np.round(np.mean(max_vel)*CDmin,4) #(cm/s)\n",
    "bfr\n",
    "\n"
   ]
  },
  {
   "cell_type": "markdown",
   "metadata": {},
   "source": [
    "### 4. Wave length "
   ]
  },
  {
   "cell_type": "markdown",
   "metadata": {
    "collapsed": false
   },
   "source": [
    "A possible lengthscale for this is the separation between canyon heads or half of that."
   ]
  },
  {
   "cell_type": "code",
   "execution_count": 126,
   "metadata": {
    "collapsed": false
   },
   "outputs": [
    {
     "name": "stdout",
     "output_type": "stream",
     "text": [
      "1.2566370614359172\n"
     ]
    }
   ],
   "source": [
    "dist_heads = 10 # cm\n",
    "k = (2*np.pi)/(dist_heads*0.5) # 1/cm\n",
    "\n",
    "print(k)"
   ]
  },
  {
   "cell_type": "markdown",
   "metadata": {},
   "source": [
    "### 5. Wave frequency\n",
    "\n",
    "Possible timescale is the \"blocking time\" and by that I mean the time it takes for the $\\Delta \\rho$ signal in the upstream canyon to be the same as signal for a 1 canyon run (see http://localhost:8888/notebooks/notebooks/exp_30mar19.ipynb). Although that time is longer than the upwelling forcing time."
   ]
  },
  {
   "cell_type": "code",
   "execution_count": 127,
   "metadata": {
    "collapsed": false
   },
   "outputs": [
    {
     "name": "stdout",
     "output_type": "stream",
     "text": [
      "0.10471975511965977\n"
     ]
    }
   ],
   "source": [
    "block_time = 60 # sec\n",
    "\n",
    "omega = 2*np.pi/60 #1/sec\n",
    "\n",
    "print(omega)"
   ]
  },
  {
   "cell_type": "markdown",
   "metadata": {},
   "source": [
    "### Answers required for code initialization"
   ]
  },
  {
   "cell_type": "code",
   "execution_count": 128,
   "metadata": {
    "collapsed": false
   },
   "outputs": [],
   "source": [
    "wavenumber = k #(1/cm)\n",
    "wavenumber_first = np.round(wavenumber*0.1,10)\n",
    "freq_per_sec = omega\n",
    "numb_freq = 200\n",
    "increment = np.round(wavenumber_first*0.1,10)\n",
    "\n",
    "f = 0.75 # rad/s  table angular velocity"
   ]
  },
  {
   "cell_type": "code",
   "execution_count": 132,
   "metadata": {
    "collapsed": false
   },
   "outputs": [
    {
     "name": "stdout",
     "output_type": "stream",
     "text": [
      "How many total gridpoints do you want in the cross shelf direction? (nn)\n",
      "80\n",
      "\n",
      "How many total gridpoints do you want in the vertical? (mm)\n",
      "30\n",
      "\n",
      "First guess at frequency (rad/sec)? \n",
      "0.10471975511965977\n",
      "\n",
      "Enter 0 for a rigid lid, 1 for a free surface (del) \n",
      "1\n",
      "\n",
      "Enter 0 for a closed x= 0 boundary, 1 for open (icbc) \n",
      "0\n",
      "\n",
      "Enter 0 for a closed x =xmax boundary, 1 for an open (iobc)\n",
      "1\n",
      "\n",
      "Enter 1 for general frequency, wavenumber or 0 for long wave limit \n",
      "1\n",
      "\n",
      "Enter the Coriolis parameter (f) (rad/sec) \n",
      "0.75\n",
      "\n",
      "Enter the domain width (xmax) (km)\n",
      "0.0\n",
      "\n",
      "Enter the nominal fractional accuracy for the solution (eps) \n",
      "0.001\n",
      "\n",
      "Enter the number of frequencies to be computed (npts) \n",
      "200\n",
      "***** tests  1\n",
      "\n",
      "Enter the first alongshore wavenumber to use (rlz) (rad/cm) \n",
      "0.1256637061\n",
      "\n",
      "Enter the wavenumber increment to use after rlz (drl) (rad/cm)\n",
      "0.0125663706\n",
      "\n",
      "How many distance, depth pairs will you provide (ndep >=1)\n",
      "81\n",
      "\n",
      "Array of offshore distances for depth values (xdep in km) (dimension ndep)\n",
      "[  0.00000000e+00   6.32911392e-06   1.26582278e-05   1.89873418e-05\n",
      "   2.53164557e-05   3.16455696e-05   3.79746835e-05   4.43037975e-05\n",
      "   5.06329114e-05   5.69620253e-05   6.32911392e-05   6.96202532e-05\n",
      "   7.59493671e-05   8.22784810e-05   8.86075949e-05   9.49367089e-05\n",
      "   1.01265823e-04   1.07594937e-04   1.13924051e-04   1.20253165e-04\n",
      "   1.26582278e-04   1.32911392e-04   1.39240506e-04   1.45569620e-04\n",
      "   1.51898734e-04   1.58227848e-04   1.64556962e-04   1.70886076e-04\n",
      "   1.77215190e-04   1.83544304e-04   1.89873418e-04   1.96202532e-04\n",
      "   2.02531646e-04   2.08860759e-04   2.15189873e-04   2.21518987e-04\n",
      "   2.27848101e-04   2.34177215e-04   2.40506329e-04   2.46835443e-04\n",
      "   2.53164557e-04   2.59493671e-04   2.65822785e-04   2.72151899e-04\n",
      "   2.78481013e-04   2.84810127e-04   2.91139241e-04   2.97468354e-04\n",
      "   3.03797468e-04   3.10126582e-04   3.16455696e-04   3.22784810e-04\n",
      "   3.29113924e-04   3.35443038e-04   3.41772152e-04   3.48101266e-04\n",
      "   3.54430380e-04   3.60759494e-04   3.67088608e-04   3.73417722e-04\n",
      "   3.79746835e-04   3.86075949e-04   3.92405063e-04   3.98734177e-04\n",
      "   4.05063291e-04   4.11392405e-04   4.17721519e-04   4.24050633e-04\n",
      "   4.30379747e-04   4.36708861e-04   4.43037975e-04   4.49367089e-04\n",
      "   4.55696203e-04   4.62025316e-04   4.68354430e-04   4.74683544e-04\n",
      "   4.81012658e-04   4.87341772e-04   4.93670886e-04   5.00000000e-04]\n",
      "\n",
      "Array of depths corresponding to xdep (depr in m)\n",
      "[ 0.01     0.0105   0.011    0.0115   0.012    0.0125   0.013    0.0135\n",
      "  0.014    0.0145   0.015    0.0155   0.01601  0.01651  0.01701  0.01751\n",
      "  0.01801  0.01851  0.01901  0.01951  0.02001  0.02051  0.02101  0.02151\n",
      "  0.02201  0.02251  0.02301  0.02351  0.02401  0.02451  0.02501  0.02551\n",
      "  0.02601  0.02651  0.02735  0.03352  0.03985  0.04618  0.05251  0.05884\n",
      "  0.06516  0.07149  0.07782  0.08415  0.09048  0.095    0.095    0.095\n",
      "  0.095    0.095    0.095    0.095    0.095    0.095    0.095    0.095\n",
      "  0.095    0.095    0.095    0.095    0.095    0.095    0.095    0.095\n",
      "  0.095    0.095    0.095    0.095    0.095    0.095    0.095    0.095\n",
      "  0.095    0.095    0.095    0.095    0.095    0.095    0.095    0.095  ]\n",
      "\n",
      "Number of distance, bottom friction pairs to read (nr) \n",
      "2\n",
      "\n",
      "Offshore distances for bottom friction values (xr in km) \n",
      "[0 0.0]\n",
      "\n",
      "Array of bottom friction values corresponding to xr (rr in cm/sec)\n",
      "[0.001 0.001] (C_D_min * u_mean_cm)\n",
      "\n",
      "Number of Nsquared values to read? (nnsq)\n",
      "30\n",
      "\n",
      "Depth increment for input of Nsquared values? (zr in m)\n",
      "0.00325862068966\n",
      "\n",
      "Exponential tail length for Nsquared extrapolation (alph in km\n",
      "2\n",
      "\n",
      "Nsquared values starting at the surface (nsqr in rad^2/sec^2) (nnsq values)\n",
      "[  2.55876705   1.62167625   1.53177659   1.96322532   0.82590828\n",
      "   1.51492965   0.51644752   0.90318092   2.73468689   0.91429781\n",
      "   1.42478992   0.52397269   1.22095827   1.22516627   1.82847069\n",
      "   1.52780554   2.15853165   1.89666757   2.12698215   2.89714672\n",
      "   3.11616856   2.17409597   1.27149544   1.71359957   1.55863608\n",
      "   2.87330327   1.68776149   0.97021602  10.13630175  -6.14019769]\n",
      "\n",
      "Input peak value of mean alongshore flow (vzero: cm/sec)\n",
      "0 (but max vel is 50.0)\n",
      "Input distance offshore to peak mean flow (km)\n",
      "Input depth of peak mean flow (m)\n",
      "Downward exponential scale of mean flow? (m)\n",
      "Upward exponential scale of mean flow? (m)\n",
      "Offshore exponential scale of mean flow? (km)\n",
      "Onshore exponential scale of mean flow? (km)\n",
      "Enter 1 for undisturbed Nsquared offshore, 0 for onshore 1\n"
     ]
    }
   ],
   "source": [
    "print('How many total gridpoints do you want in the cross shelf direction? (nn)')\n",
    "print(cs_points)  \n",
    "print('\\nHow many total gridpoints do you want in the vertical? (mm)')\n",
    "print(nlevs)\n",
    "print('\\nFirst guess at frequency (rad/sec)? ')\n",
    "print(freq_per_sec)\n",
    "print('\\nEnter 0 for a rigid lid, 1 for a free surface (del) ')\n",
    "print(1)\n",
    "print('\\nEnter 0 for a closed x= 0 boundary, 1 for open (icbc) ')\n",
    "print(0)\n",
    "print('\\nEnter 0 for a closed x =xmax boundary, 1 for an open (iobc)')\n",
    "print(1)\n",
    "print('\\nEnter 1 for general frequency, wavenumber or 0 for long wave limit ')\n",
    "print(1)\n",
    "print('\\nEnter the Coriolis parameter (f) (rad/sec) ')\n",
    "print(f)\n",
    "print('\\nEnter the domain width (xmax) (km)')\n",
    "width = x_interp[0]/1000\n",
    "print(width)\n",
    "print('\\nEnter the nominal fractional accuracy for the solution (eps) ')\n",
    "print(0.001)\n",
    "print('\\nEnter the number of frequencies to be computed (npts) ')\n",
    "print(numb_freq)\n",
    "print('***** tests ', 1)\n",
    "print('\\nEnter the first alongshore wavenumber to use (rlz) (rad/cm) ')\n",
    "print(wavenumber_first)\n",
    "print('\\nEnter the wavenumber increment to use after rlz (drl) (rad/cm)')\n",
    "print(increment)\n",
    "print('\\nHow many distance, depth pairs will you provide (ndep >=1)')\n",
    "print(len(cs_interp)+1)  \n",
    "print('\\nArray of offshore distances for depth values (xdep in km) (dimension ndep)')\n",
    "print(x_interp/1000)\n",
    "print('\\nArray of depths corresponding to xdep (depr in m)') # positive!\n",
    "print(-cs_interp)\n",
    "print('\\nNumber of distance, bottom friction pairs to read (nr) ')\n",
    "print(2)\n",
    "print('\\nOffshore distances for bottom friction values (xr in km) ')\n",
    "print('[0 '+str(width)+']')\n",
    "print('\\nArray of bottom friction values corresponding to xr (rr in cm/sec)')\n",
    "print('[' + str(abs(bfr)) + ' ' + str(abs(bfr)) + '] (C_D_min * u_mean_cm)')\n",
    "print('\\nNumber of Nsquared values to read? (nnsq)')\n",
    "print(len(N2_interp))\n",
    "print('\\nDepth increment for input of Nsquared values? (zr in m)')\n",
    "print(z_increment)\n",
    "print('\\nExponential tail length for Nsquared extrapolation (alph in km')\n",
    "print(2)\n",
    "print('\\nNsquared values starting at the surface (nsqr in rad^2/sec^2) (nnsq values)')\n",
    "print(N2_interp)\n",
    "print('\\nInput peak value of mean alongshore flow (vzero: cm/sec)')\n",
    "print(0, '(but max vel is '+str(np.round(max_vel*100,1))+')')\n",
    "print('Input distance offshore to peak mean flow (km)')# 2.2\n",
    "print('Input depth of peak mean flow (m)')#100\n",
    "print('Downward exponential scale of mean flow? (m)')#1100\n",
    "print('Upward exponential scale of mean flow? (m)')#100\n",
    "print('Offshore exponential scale of mean flow? (km)')#40\n",
    "print('Onshore exponential scale of mean flow? (km)')#100\n",
    "print('Enter 1 for undisturbed Nsquared offshore, 0 for onshore 1')\n"
   ]
  },
  {
   "cell_type": "code",
   "execution_count": 130,
   "metadata": {
    "collapsed": false
   },
   "outputs": [
    {
     "data": {
      "text/plain": [
       "0.0032586206896551726"
      ]
     },
     "execution_count": 130,
     "metadata": {},
     "output_type": "execute_result"
    }
   ],
   "source": [
    "z_increment"
   ]
  },
  {
   "cell_type": "code",
   "execution_count": null,
   "metadata": {
    "collapsed": true
   },
   "outputs": [],
   "source": []
  }
 ],
 "metadata": {
  "anaconda-cloud": {},
  "kernelspec": {
   "display_name": "Python [default]",
   "language": "python",
   "name": "python3"
  },
  "language_info": {
   "codemirror_mode": {
    "name": "ipython",
    "version": 3
   },
   "file_extension": ".py",
   "mimetype": "text/x-python",
   "name": "python",
   "nbconvert_exporter": "python",
   "pygments_lexer": "ipython3",
   "version": "3.5.4"
  }
 },
 "nbformat": 4,
 "nbformat_minor": 1
}
